{
 "cells": [
  {
   "cell_type": "markdown",
   "metadata": {},
   "source": [
    "## Load datasets in dataframe"
   ]
  },
  {
   "cell_type": "code",
   "execution_count": 1,
   "metadata": {},
   "outputs": [],
   "source": [
    "import pandas as pd\n",
    "import codecs\n",
    "import nltk \n",
    "from nltk.tokenize import word_tokenize\n",
    "import numpy as np\n"
   ]
  },
  {
   "cell_type": "code",
   "execution_count": 2,
   "metadata": {},
   "outputs": [],
   "source": [
    "data = pd.read_csv(\"C:/Users/jw156/Ironhack/Final_Project/NHS_headlines/scrape/daily_mail_final_df.csv\")\n",
    "data = data.drop(['Unnamed: 0'], axis=1)"
   ]
  },
  {
   "cell_type": "code",
   "execution_count": 3,
   "metadata": {},
   "outputs": [
    {
     "data": {
      "text/html": [
       "<div>\n",
       "<style scoped>\n",
       "    .dataframe tbody tr th:only-of-type {\n",
       "        vertical-align: middle;\n",
       "    }\n",
       "\n",
       "    .dataframe tbody tr th {\n",
       "        vertical-align: top;\n",
       "    }\n",
       "\n",
       "    .dataframe thead th {\n",
       "        text-align: right;\n",
       "    }\n",
       "</style>\n",
       "<table border=\"1\" class=\"dataframe\">\n",
       "  <thead>\n",
       "    <tr style=\"text-align: right;\">\n",
       "      <th></th>\n",
       "      <th>date</th>\n",
       "      <th>headline</th>\n",
       "      <th>weblink</th>\n",
       "    </tr>\n",
       "  </thead>\n",
       "  <tbody>\n",
       "    <tr>\n",
       "      <th>0</th>\n",
       "      <td>18 January 2020</td>\n",
       "      <td>Doctors fear immunotherapy could actually make...</td>\n",
       "      <td>https://www.dailymail.co.uk/health/article-790...</td>\n",
       "    </tr>\n",
       "    <tr>\n",
       "      <th>1</th>\n",
       "      <td>6 April 2020</td>\n",
       "      <td>James Arthur jokes he's 'so happy hats were in...</td>\n",
       "      <td>https://www.dailymail.co.uk/tvshowbiz/article-...</td>\n",
       "    </tr>\n",
       "    <tr>\n",
       "      <th>2</th>\n",
       "      <td>15 April 2020</td>\n",
       "      <td>The Duke of Westminster gives £12.5m to the NH...</td>\n",
       "      <td>https://www.dailymail.co.uk/news/article-82208...</td>\n",
       "    </tr>\n",
       "    <tr>\n",
       "      <th>3</th>\n",
       "      <td>25 July 2020</td>\n",
       "      <td>Covid crisis is 'destroying women's careers' a...</td>\n",
       "      <td>https://www.dailymail.co.uk/news/article-85586...</td>\n",
       "    </tr>\n",
       "    <tr>\n",
       "      <th>4</th>\n",
       "      <td>16 December 2019</td>\n",
       "      <td>Student, 21, battles sepsis after she caught a...</td>\n",
       "      <td>https://www.dailymail.co.uk/health/article-779...</td>\n",
       "    </tr>\n",
       "    <tr>\n",
       "      <th>...</th>\n",
       "      <td>...</td>\n",
       "      <td>...</td>\n",
       "      <td>...</td>\n",
       "    </tr>\n",
       "    <tr>\n",
       "      <th>3246</th>\n",
       "      <td>9 December 2019</td>\n",
       "      <td>Thrifty father-of-three reveals how he saves £...</td>\n",
       "      <td>https://www.dailymail.co.uk/femail/article-773...</td>\n",
       "    </tr>\n",
       "    <tr>\n",
       "      <th>3247</th>\n",
       "      <td>20 December 2019</td>\n",
       "      <td>The Cure viewers brand the show a 'heartbreaki...</td>\n",
       "      <td>https://www.dailymail.co.uk/femail/article-781...</td>\n",
       "    </tr>\n",
       "    <tr>\n",
       "      <th>3248</th>\n",
       "      <td>26 March 2020</td>\n",
       "      <td>SARAH VINE: When we look back on these extraor...</td>\n",
       "      <td>https://www.dailymail.co.uk/debate/article-815...</td>\n",
       "    </tr>\n",
       "    <tr>\n",
       "      <th>3249</th>\n",
       "      <td>25 September 2019</td>\n",
       "      <td>Men who struggle to become fathers are up to 6...</td>\n",
       "      <td>https://www.dailymail.co.uk/health/article-750...</td>\n",
       "    </tr>\n",
       "    <tr>\n",
       "      <th>3250</th>\n",
       "      <td>16 May 2020</td>\n",
       "      <td>'It feels good to do something so useful at a ...</td>\n",
       "      <td>https://www.dailymail.co.uk/tvshowbiz/article-...</td>\n",
       "    </tr>\n",
       "  </tbody>\n",
       "</table>\n",
       "<p>3251 rows × 3 columns</p>\n",
       "</div>"
      ],
      "text/plain": [
       "                     date                                           headline  \\\n",
       "0        18 January 2020   Doctors fear immunotherapy could actually make...   \n",
       "1           6 April 2020   James Arthur jokes he's 'so happy hats were in...   \n",
       "2          15 April 2020   The Duke of Westminster gives £12.5m to the NH...   \n",
       "3           25 July 2020   Covid crisis is 'destroying women's careers' a...   \n",
       "4       16 December 2019   Student, 21, battles sepsis after she caught a...   \n",
       "...                   ...                                                ...   \n",
       "3246     9 December 2019   Thrifty father-of-three reveals how he saves £...   \n",
       "3247    20 December 2019   The Cure viewers brand the show a 'heartbreaki...   \n",
       "3248       26 March 2020   SARAH VINE: When we look back on these extraor...   \n",
       "3249   25 September 2019   Men who struggle to become fathers are up to 6...   \n",
       "3250         16 May 2020   'It feels good to do something so useful at a ...   \n",
       "\n",
       "                                                weblink  \n",
       "0     https://www.dailymail.co.uk/health/article-790...  \n",
       "1     https://www.dailymail.co.uk/tvshowbiz/article-...  \n",
       "2     https://www.dailymail.co.uk/news/article-82208...  \n",
       "3     https://www.dailymail.co.uk/news/article-85586...  \n",
       "4     https://www.dailymail.co.uk/health/article-779...  \n",
       "...                                                 ...  \n",
       "3246  https://www.dailymail.co.uk/femail/article-773...  \n",
       "3247  https://www.dailymail.co.uk/femail/article-781...  \n",
       "3248  https://www.dailymail.co.uk/debate/article-815...  \n",
       "3249  https://www.dailymail.co.uk/health/article-750...  \n",
       "3250  https://www.dailymail.co.uk/tvshowbiz/article-...  \n",
       "\n",
       "[3251 rows x 3 columns]"
      ]
     },
     "execution_count": 3,
     "metadata": {},
     "output_type": "execute_result"
    }
   ],
   "source": [
    "data"
   ]
  },
  {
   "cell_type": "markdown",
   "metadata": {},
   "source": [
    "# Removal Punctuation "
   ]
  },
  {
   "cell_type": "code",
   "execution_count": 4,
   "metadata": {},
   "outputs": [],
   "source": [
    "import string\n",
    "import re"
   ]
  },
  {
   "cell_type": "code",
   "execution_count": 5,
   "metadata": {},
   "outputs": [],
   "source": [
    "data['headline'] = data.headline.apply(lambda x: re.sub(r'[^\\w\\s]', '',x))"
   ]
  },
  {
   "cell_type": "code",
   "execution_count": 6,
   "metadata": {},
   "outputs": [
    {
     "data": {
      "text/html": [
       "<div>\n",
       "<style scoped>\n",
       "    .dataframe tbody tr th:only-of-type {\n",
       "        vertical-align: middle;\n",
       "    }\n",
       "\n",
       "    .dataframe tbody tr th {\n",
       "        vertical-align: top;\n",
       "    }\n",
       "\n",
       "    .dataframe thead th {\n",
       "        text-align: right;\n",
       "    }\n",
       "</style>\n",
       "<table border=\"1\" class=\"dataframe\">\n",
       "  <thead>\n",
       "    <tr style=\"text-align: right;\">\n",
       "      <th></th>\n",
       "      <th>date</th>\n",
       "      <th>headline</th>\n",
       "      <th>weblink</th>\n",
       "    </tr>\n",
       "  </thead>\n",
       "  <tbody>\n",
       "    <tr>\n",
       "      <th>0</th>\n",
       "      <td>18 January 2020</td>\n",
       "      <td>Doctors fear immunotherapy could actually make...</td>\n",
       "      <td>https://www.dailymail.co.uk/health/article-790...</td>\n",
       "    </tr>\n",
       "    <tr>\n",
       "      <th>1</th>\n",
       "      <td>6 April 2020</td>\n",
       "      <td>James Arthur jokes hes so happy hats were inve...</td>\n",
       "      <td>https://www.dailymail.co.uk/tvshowbiz/article-...</td>\n",
       "    </tr>\n",
       "    <tr>\n",
       "      <th>2</th>\n",
       "      <td>15 April 2020</td>\n",
       "      <td>The Duke of Westminster gives 125m to the NHS ...</td>\n",
       "      <td>https://www.dailymail.co.uk/news/article-82208...</td>\n",
       "    </tr>\n",
       "    <tr>\n",
       "      <th>3</th>\n",
       "      <td>25 July 2020</td>\n",
       "      <td>Covid crisis is destroying womens careers acco...</td>\n",
       "      <td>https://www.dailymail.co.uk/news/article-85586...</td>\n",
       "    </tr>\n",
       "    <tr>\n",
       "      <th>4</th>\n",
       "      <td>16 December 2019</td>\n",
       "      <td>Student 21 battles sepsis after she caught an ...</td>\n",
       "      <td>https://www.dailymail.co.uk/health/article-779...</td>\n",
       "    </tr>\n",
       "    <tr>\n",
       "      <th>...</th>\n",
       "      <td>...</td>\n",
       "      <td>...</td>\n",
       "      <td>...</td>\n",
       "    </tr>\n",
       "    <tr>\n",
       "      <th>3246</th>\n",
       "      <td>9 December 2019</td>\n",
       "      <td>Thrifty fatherofthree reveals how he saves 200...</td>\n",
       "      <td>https://www.dailymail.co.uk/femail/article-773...</td>\n",
       "    </tr>\n",
       "    <tr>\n",
       "      <th>3247</th>\n",
       "      <td>20 December 2019</td>\n",
       "      <td>The Cure viewers brand the show a heartbreakin...</td>\n",
       "      <td>https://www.dailymail.co.uk/femail/article-781...</td>\n",
       "    </tr>\n",
       "    <tr>\n",
       "      <th>3248</th>\n",
       "      <td>26 March 2020</td>\n",
       "      <td>SARAH VINE When we look back on these extraord...</td>\n",
       "      <td>https://www.dailymail.co.uk/debate/article-815...</td>\n",
       "    </tr>\n",
       "    <tr>\n",
       "      <th>3249</th>\n",
       "      <td>25 September 2019</td>\n",
       "      <td>Men who struggle to become fathers are up to 6...</td>\n",
       "      <td>https://www.dailymail.co.uk/health/article-750...</td>\n",
       "    </tr>\n",
       "    <tr>\n",
       "      <th>3250</th>\n",
       "      <td>16 May 2020</td>\n",
       "      <td>It feels good to do something so useful at a t...</td>\n",
       "      <td>https://www.dailymail.co.uk/tvshowbiz/article-...</td>\n",
       "    </tr>\n",
       "  </tbody>\n",
       "</table>\n",
       "<p>3251 rows × 3 columns</p>\n",
       "</div>"
      ],
      "text/plain": [
       "                     date                                           headline  \\\n",
       "0        18 January 2020   Doctors fear immunotherapy could actually make...   \n",
       "1           6 April 2020   James Arthur jokes hes so happy hats were inve...   \n",
       "2          15 April 2020   The Duke of Westminster gives 125m to the NHS ...   \n",
       "3           25 July 2020   Covid crisis is destroying womens careers acco...   \n",
       "4       16 December 2019   Student 21 battles sepsis after she caught an ...   \n",
       "...                   ...                                                ...   \n",
       "3246     9 December 2019   Thrifty fatherofthree reveals how he saves 200...   \n",
       "3247    20 December 2019   The Cure viewers brand the show a heartbreakin...   \n",
       "3248       26 March 2020   SARAH VINE When we look back on these extraord...   \n",
       "3249   25 September 2019   Men who struggle to become fathers are up to 6...   \n",
       "3250         16 May 2020   It feels good to do something so useful at a t...   \n",
       "\n",
       "                                                weblink  \n",
       "0     https://www.dailymail.co.uk/health/article-790...  \n",
       "1     https://www.dailymail.co.uk/tvshowbiz/article-...  \n",
       "2     https://www.dailymail.co.uk/news/article-82208...  \n",
       "3     https://www.dailymail.co.uk/news/article-85586...  \n",
       "4     https://www.dailymail.co.uk/health/article-779...  \n",
       "...                                                 ...  \n",
       "3246  https://www.dailymail.co.uk/femail/article-773...  \n",
       "3247  https://www.dailymail.co.uk/femail/article-781...  \n",
       "3248  https://www.dailymail.co.uk/debate/article-815...  \n",
       "3249  https://www.dailymail.co.uk/health/article-750...  \n",
       "3250  https://www.dailymail.co.uk/tvshowbiz/article-...  \n",
       "\n",
       "[3251 rows x 3 columns]"
      ]
     },
     "execution_count": 6,
     "metadata": {},
     "output_type": "execute_result"
    }
   ],
   "source": [
    "data"
   ]
  },
  {
   "cell_type": "markdown",
   "metadata": {},
   "source": [
    "# Cleaning vocab"
   ]
  },
  {
   "cell_type": "code",
   "execution_count": 7,
   "metadata": {},
   "outputs": [],
   "source": [
    "# make all lowercase"
   ]
  },
  {
   "cell_type": "code",
   "execution_count": 8,
   "metadata": {},
   "outputs": [],
   "source": [
    "data['headline'] = data['headline'].str.lower()"
   ]
  },
  {
   "cell_type": "code",
   "execution_count": 9,
   "metadata": {},
   "outputs": [],
   "source": [
    "# change all AE to ER"
   ]
  },
  {
   "cell_type": "code",
   "execution_count": 10,
   "metadata": {},
   "outputs": [],
   "source": [
    "data['headline'] = data['headline'].str.replace('ae', 'er')"
   ]
  },
  {
   "cell_type": "code",
   "execution_count": 11,
   "metadata": {},
   "outputs": [],
   "source": [
    "# change all NHS to 'national health service'"
   ]
  },
  {
   "cell_type": "code",
   "execution_count": 12,
   "metadata": {},
   "outputs": [],
   "source": [
    "data['headline'] = data['headline'].str.replace('nhs', 'national health service')\n",
    "# cleaned_headlines = [w.replace('nhs', 'national health service') for w in er_headlines]"
   ]
  },
  {
   "cell_type": "code",
   "execution_count": 13,
   "metadata": {},
   "outputs": [
    {
     "data": {
      "text/html": [
       "<div>\n",
       "<style scoped>\n",
       "    .dataframe tbody tr th:only-of-type {\n",
       "        vertical-align: middle;\n",
       "    }\n",
       "\n",
       "    .dataframe tbody tr th {\n",
       "        vertical-align: top;\n",
       "    }\n",
       "\n",
       "    .dataframe thead th {\n",
       "        text-align: right;\n",
       "    }\n",
       "</style>\n",
       "<table border=\"1\" class=\"dataframe\">\n",
       "  <thead>\n",
       "    <tr style=\"text-align: right;\">\n",
       "      <th></th>\n",
       "      <th>date</th>\n",
       "      <th>headline</th>\n",
       "      <th>weblink</th>\n",
       "    </tr>\n",
       "  </thead>\n",
       "  <tbody>\n",
       "    <tr>\n",
       "      <th>0</th>\n",
       "      <td>18 January 2020</td>\n",
       "      <td>doctors fear immunotherapy could actually make...</td>\n",
       "      <td>https://www.dailymail.co.uk/health/article-790...</td>\n",
       "    </tr>\n",
       "    <tr>\n",
       "      <th>1</th>\n",
       "      <td>6 April 2020</td>\n",
       "      <td>james arthur jokes hes so happy hats were inve...</td>\n",
       "      <td>https://www.dailymail.co.uk/tvshowbiz/article-...</td>\n",
       "    </tr>\n",
       "    <tr>\n",
       "      <th>2</th>\n",
       "      <td>15 April 2020</td>\n",
       "      <td>the duke of westminster gives 125m to the nati...</td>\n",
       "      <td>https://www.dailymail.co.uk/news/article-82208...</td>\n",
       "    </tr>\n",
       "    <tr>\n",
       "      <th>3</th>\n",
       "      <td>25 July 2020</td>\n",
       "      <td>covid crisis is destroying womens careers acco...</td>\n",
       "      <td>https://www.dailymail.co.uk/news/article-85586...</td>\n",
       "    </tr>\n",
       "    <tr>\n",
       "      <th>4</th>\n",
       "      <td>16 December 2019</td>\n",
       "      <td>student 21 battles sepsis after she caught an ...</td>\n",
       "      <td>https://www.dailymail.co.uk/health/article-779...</td>\n",
       "    </tr>\n",
       "    <tr>\n",
       "      <th>...</th>\n",
       "      <td>...</td>\n",
       "      <td>...</td>\n",
       "      <td>...</td>\n",
       "    </tr>\n",
       "    <tr>\n",
       "      <th>3246</th>\n",
       "      <td>9 December 2019</td>\n",
       "      <td>thrifty fatherofthree reveals how he saves 200...</td>\n",
       "      <td>https://www.dailymail.co.uk/femail/article-773...</td>\n",
       "    </tr>\n",
       "    <tr>\n",
       "      <th>3247</th>\n",
       "      <td>20 December 2019</td>\n",
       "      <td>the cure viewers brand the show a heartbreakin...</td>\n",
       "      <td>https://www.dailymail.co.uk/femail/article-781...</td>\n",
       "    </tr>\n",
       "    <tr>\n",
       "      <th>3248</th>\n",
       "      <td>26 March 2020</td>\n",
       "      <td>sarah vine when we look back on these extraord...</td>\n",
       "      <td>https://www.dailymail.co.uk/debate/article-815...</td>\n",
       "    </tr>\n",
       "    <tr>\n",
       "      <th>3249</th>\n",
       "      <td>25 September 2019</td>\n",
       "      <td>men who struggle to become fathers are up to 6...</td>\n",
       "      <td>https://www.dailymail.co.uk/health/article-750...</td>\n",
       "    </tr>\n",
       "    <tr>\n",
       "      <th>3250</th>\n",
       "      <td>16 May 2020</td>\n",
       "      <td>it feels good to do something so useful at a t...</td>\n",
       "      <td>https://www.dailymail.co.uk/tvshowbiz/article-...</td>\n",
       "    </tr>\n",
       "  </tbody>\n",
       "</table>\n",
       "<p>3251 rows × 3 columns</p>\n",
       "</div>"
      ],
      "text/plain": [
       "                     date                                           headline  \\\n",
       "0        18 January 2020   doctors fear immunotherapy could actually make...   \n",
       "1           6 April 2020   james arthur jokes hes so happy hats were inve...   \n",
       "2          15 April 2020   the duke of westminster gives 125m to the nati...   \n",
       "3           25 July 2020   covid crisis is destroying womens careers acco...   \n",
       "4       16 December 2019   student 21 battles sepsis after she caught an ...   \n",
       "...                   ...                                                ...   \n",
       "3246     9 December 2019   thrifty fatherofthree reveals how he saves 200...   \n",
       "3247    20 December 2019   the cure viewers brand the show a heartbreakin...   \n",
       "3248       26 March 2020   sarah vine when we look back on these extraord...   \n",
       "3249   25 September 2019   men who struggle to become fathers are up to 6...   \n",
       "3250         16 May 2020   it feels good to do something so useful at a t...   \n",
       "\n",
       "                                                weblink  \n",
       "0     https://www.dailymail.co.uk/health/article-790...  \n",
       "1     https://www.dailymail.co.uk/tvshowbiz/article-...  \n",
       "2     https://www.dailymail.co.uk/news/article-82208...  \n",
       "3     https://www.dailymail.co.uk/news/article-85586...  \n",
       "4     https://www.dailymail.co.uk/health/article-779...  \n",
       "...                                                 ...  \n",
       "3246  https://www.dailymail.co.uk/femail/article-773...  \n",
       "3247  https://www.dailymail.co.uk/femail/article-781...  \n",
       "3248  https://www.dailymail.co.uk/debate/article-815...  \n",
       "3249  https://www.dailymail.co.uk/health/article-750...  \n",
       "3250  https://www.dailymail.co.uk/tvshowbiz/article-...  \n",
       "\n",
       "[3251 rows x 3 columns]"
      ]
     },
     "execution_count": 13,
     "metadata": {},
     "output_type": "execute_result"
    }
   ],
   "source": [
    "data"
   ]
  },
  {
   "cell_type": "markdown",
   "metadata": {},
   "source": [
    "# Convert Numbers to Words"
   ]
  },
  {
   "cell_type": "code",
   "execution_count": 14,
   "metadata": {},
   "outputs": [],
   "source": [
    "# Use regex to split int from str"
   ]
  },
  {
   "cell_type": "code",
   "execution_count": 15,
   "metadata": {},
   "outputs": [],
   "source": [
    "import re"
   ]
  },
  {
   "cell_type": "code",
   "execution_count": 16,
   "metadata": {},
   "outputs": [],
   "source": [
    "def split_num_from_str(x):\n",
    "    pattern = r'(-?[0-9]+\\.?[0-9]*)'\n",
    "    for word in x:\n",
    "        f = ' '.join(segment for segment in re.split(pattern, x) if segment)\n",
    "    return f"
   ]
  },
  {
   "cell_type": "code",
   "execution_count": 17,
   "metadata": {},
   "outputs": [
    {
     "data": {
      "text/html": [
       "<div>\n",
       "<style scoped>\n",
       "    .dataframe tbody tr th:only-of-type {\n",
       "        vertical-align: middle;\n",
       "    }\n",
       "\n",
       "    .dataframe tbody tr th {\n",
       "        vertical-align: top;\n",
       "    }\n",
       "\n",
       "    .dataframe thead th {\n",
       "        text-align: right;\n",
       "    }\n",
       "</style>\n",
       "<table border=\"1\" class=\"dataframe\">\n",
       "  <thead>\n",
       "    <tr style=\"text-align: right;\">\n",
       "      <th></th>\n",
       "      <th>date</th>\n",
       "      <th>headline</th>\n",
       "      <th>weblink</th>\n",
       "    </tr>\n",
       "  </thead>\n",
       "  <tbody>\n",
       "    <tr>\n",
       "      <th>0</th>\n",
       "      <td>18 January 2020</td>\n",
       "      <td>doctors fear immunotherapy could actually make...</td>\n",
       "      <td>https://www.dailymail.co.uk/health/article-790...</td>\n",
       "    </tr>\n",
       "    <tr>\n",
       "      <th>1</th>\n",
       "      <td>6 April 2020</td>\n",
       "      <td>james arthur jokes hes so happy hats were inve...</td>\n",
       "      <td>https://www.dailymail.co.uk/tvshowbiz/article-...</td>\n",
       "    </tr>\n",
       "    <tr>\n",
       "      <th>2</th>\n",
       "      <td>15 April 2020</td>\n",
       "      <td>the duke of westminster gives 125m to the nati...</td>\n",
       "      <td>https://www.dailymail.co.uk/news/article-82208...</td>\n",
       "    </tr>\n",
       "    <tr>\n",
       "      <th>3</th>\n",
       "      <td>25 July 2020</td>\n",
       "      <td>covid crisis is destroying womens careers acco...</td>\n",
       "      <td>https://www.dailymail.co.uk/news/article-85586...</td>\n",
       "    </tr>\n",
       "    <tr>\n",
       "      <th>4</th>\n",
       "      <td>16 December 2019</td>\n",
       "      <td>student 21 battles sepsis after she caught an ...</td>\n",
       "      <td>https://www.dailymail.co.uk/health/article-779...</td>\n",
       "    </tr>\n",
       "    <tr>\n",
       "      <th>...</th>\n",
       "      <td>...</td>\n",
       "      <td>...</td>\n",
       "      <td>...</td>\n",
       "    </tr>\n",
       "    <tr>\n",
       "      <th>3246</th>\n",
       "      <td>9 December 2019</td>\n",
       "      <td>thrifty fatherofthree reveals how he saves 200...</td>\n",
       "      <td>https://www.dailymail.co.uk/femail/article-773...</td>\n",
       "    </tr>\n",
       "    <tr>\n",
       "      <th>3247</th>\n",
       "      <td>20 December 2019</td>\n",
       "      <td>the cure viewers brand the show a heartbreakin...</td>\n",
       "      <td>https://www.dailymail.co.uk/femail/article-781...</td>\n",
       "    </tr>\n",
       "    <tr>\n",
       "      <th>3248</th>\n",
       "      <td>26 March 2020</td>\n",
       "      <td>sarah vine when we look back on these extraord...</td>\n",
       "      <td>https://www.dailymail.co.uk/debate/article-815...</td>\n",
       "    </tr>\n",
       "    <tr>\n",
       "      <th>3249</th>\n",
       "      <td>25 September 2019</td>\n",
       "      <td>men who struggle to become fathers are up to 6...</td>\n",
       "      <td>https://www.dailymail.co.uk/health/article-750...</td>\n",
       "    </tr>\n",
       "    <tr>\n",
       "      <th>3250</th>\n",
       "      <td>16 May 2020</td>\n",
       "      <td>it feels good to do something so useful at a t...</td>\n",
       "      <td>https://www.dailymail.co.uk/tvshowbiz/article-...</td>\n",
       "    </tr>\n",
       "  </tbody>\n",
       "</table>\n",
       "<p>3251 rows × 3 columns</p>\n",
       "</div>"
      ],
      "text/plain": [
       "                     date                                           headline  \\\n",
       "0        18 January 2020   doctors fear immunotherapy could actually make...   \n",
       "1           6 April 2020   james arthur jokes hes so happy hats were inve...   \n",
       "2          15 April 2020   the duke of westminster gives 125m to the nati...   \n",
       "3           25 July 2020   covid crisis is destroying womens careers acco...   \n",
       "4       16 December 2019   student 21 battles sepsis after she caught an ...   \n",
       "...                   ...                                                ...   \n",
       "3246     9 December 2019   thrifty fatherofthree reveals how he saves 200...   \n",
       "3247    20 December 2019   the cure viewers brand the show a heartbreakin...   \n",
       "3248       26 March 2020   sarah vine when we look back on these extraord...   \n",
       "3249   25 September 2019   men who struggle to become fathers are up to 6...   \n",
       "3250         16 May 2020   it feels good to do something so useful at a t...   \n",
       "\n",
       "                                                weblink  \n",
       "0     https://www.dailymail.co.uk/health/article-790...  \n",
       "1     https://www.dailymail.co.uk/tvshowbiz/article-...  \n",
       "2     https://www.dailymail.co.uk/news/article-82208...  \n",
       "3     https://www.dailymail.co.uk/news/article-85586...  \n",
       "4     https://www.dailymail.co.uk/health/article-779...  \n",
       "...                                                 ...  \n",
       "3246  https://www.dailymail.co.uk/femail/article-773...  \n",
       "3247  https://www.dailymail.co.uk/femail/article-781...  \n",
       "3248  https://www.dailymail.co.uk/debate/article-815...  \n",
       "3249  https://www.dailymail.co.uk/health/article-750...  \n",
       "3250  https://www.dailymail.co.uk/tvshowbiz/article-...  \n",
       "\n",
       "[3251 rows x 3 columns]"
      ]
     },
     "execution_count": 17,
     "metadata": {},
     "output_type": "execute_result"
    }
   ],
   "source": [
    "data"
   ]
  },
  {
   "cell_type": "code",
   "execution_count": 18,
   "metadata": {},
   "outputs": [],
   "source": [
    "data['headline'] = data.headline.apply(split_num_from_str)\n"
   ]
  },
  {
   "cell_type": "code",
   "execution_count": 19,
   "metadata": {},
   "outputs": [
    {
     "data": {
      "text/html": [
       "<div>\n",
       "<style scoped>\n",
       "    .dataframe tbody tr th:only-of-type {\n",
       "        vertical-align: middle;\n",
       "    }\n",
       "\n",
       "    .dataframe tbody tr th {\n",
       "        vertical-align: top;\n",
       "    }\n",
       "\n",
       "    .dataframe thead th {\n",
       "        text-align: right;\n",
       "    }\n",
       "</style>\n",
       "<table border=\"1\" class=\"dataframe\">\n",
       "  <thead>\n",
       "    <tr style=\"text-align: right;\">\n",
       "      <th></th>\n",
       "      <th>date</th>\n",
       "      <th>headline</th>\n",
       "      <th>weblink</th>\n",
       "    </tr>\n",
       "  </thead>\n",
       "  <tbody>\n",
       "    <tr>\n",
       "      <th>0</th>\n",
       "      <td>18 January 2020</td>\n",
       "      <td>doctors fear immunotherapy could actually make...</td>\n",
       "      <td>https://www.dailymail.co.uk/health/article-790...</td>\n",
       "    </tr>\n",
       "    <tr>\n",
       "      <th>1</th>\n",
       "      <td>6 April 2020</td>\n",
       "      <td>james arthur jokes hes so happy hats were inve...</td>\n",
       "      <td>https://www.dailymail.co.uk/tvshowbiz/article-...</td>\n",
       "    </tr>\n",
       "    <tr>\n",
       "      <th>2</th>\n",
       "      <td>15 April 2020</td>\n",
       "      <td>the duke of westminster gives  125 m to the na...</td>\n",
       "      <td>https://www.dailymail.co.uk/news/article-82208...</td>\n",
       "    </tr>\n",
       "    <tr>\n",
       "      <th>3</th>\n",
       "      <td>25 July 2020</td>\n",
       "      <td>covid crisis is destroying womens careers acco...</td>\n",
       "      <td>https://www.dailymail.co.uk/news/article-85586...</td>\n",
       "    </tr>\n",
       "    <tr>\n",
       "      <th>4</th>\n",
       "      <td>16 December 2019</td>\n",
       "      <td>student  21  battles sepsis after she caught a...</td>\n",
       "      <td>https://www.dailymail.co.uk/health/article-779...</td>\n",
       "    </tr>\n",
       "    <tr>\n",
       "      <th>...</th>\n",
       "      <td>...</td>\n",
       "      <td>...</td>\n",
       "      <td>...</td>\n",
       "    </tr>\n",
       "    <tr>\n",
       "      <th>3246</th>\n",
       "      <td>9 December 2019</td>\n",
       "      <td>thrifty fatherofthree reveals how he saves  20...</td>\n",
       "      <td>https://www.dailymail.co.uk/femail/article-773...</td>\n",
       "    </tr>\n",
       "    <tr>\n",
       "      <th>3247</th>\n",
       "      <td>20 December 2019</td>\n",
       "      <td>the cure viewers brand the show a heartbreakin...</td>\n",
       "      <td>https://www.dailymail.co.uk/femail/article-781...</td>\n",
       "    </tr>\n",
       "    <tr>\n",
       "      <th>3248</th>\n",
       "      <td>26 March 2020</td>\n",
       "      <td>sarah vine when we look back on these extraord...</td>\n",
       "      <td>https://www.dailymail.co.uk/debate/article-815...</td>\n",
       "    </tr>\n",
       "    <tr>\n",
       "      <th>3249</th>\n",
       "      <td>25 September 2019</td>\n",
       "      <td>men who struggle to become fathers are up to  ...</td>\n",
       "      <td>https://www.dailymail.co.uk/health/article-750...</td>\n",
       "    </tr>\n",
       "    <tr>\n",
       "      <th>3250</th>\n",
       "      <td>16 May 2020</td>\n",
       "      <td>it feels good to do something so useful at a t...</td>\n",
       "      <td>https://www.dailymail.co.uk/tvshowbiz/article-...</td>\n",
       "    </tr>\n",
       "  </tbody>\n",
       "</table>\n",
       "<p>3251 rows × 3 columns</p>\n",
       "</div>"
      ],
      "text/plain": [
       "                     date                                           headline  \\\n",
       "0        18 January 2020   doctors fear immunotherapy could actually make...   \n",
       "1           6 April 2020   james arthur jokes hes so happy hats were inve...   \n",
       "2          15 April 2020   the duke of westminster gives  125 m to the na...   \n",
       "3           25 July 2020   covid crisis is destroying womens careers acco...   \n",
       "4       16 December 2019   student  21  battles sepsis after she caught a...   \n",
       "...                   ...                                                ...   \n",
       "3246     9 December 2019   thrifty fatherofthree reveals how he saves  20...   \n",
       "3247    20 December 2019   the cure viewers brand the show a heartbreakin...   \n",
       "3248       26 March 2020   sarah vine when we look back on these extraord...   \n",
       "3249   25 September 2019   men who struggle to become fathers are up to  ...   \n",
       "3250         16 May 2020   it feels good to do something so useful at a t...   \n",
       "\n",
       "                                                weblink  \n",
       "0     https://www.dailymail.co.uk/health/article-790...  \n",
       "1     https://www.dailymail.co.uk/tvshowbiz/article-...  \n",
       "2     https://www.dailymail.co.uk/news/article-82208...  \n",
       "3     https://www.dailymail.co.uk/news/article-85586...  \n",
       "4     https://www.dailymail.co.uk/health/article-779...  \n",
       "...                                                 ...  \n",
       "3246  https://www.dailymail.co.uk/femail/article-773...  \n",
       "3247  https://www.dailymail.co.uk/femail/article-781...  \n",
       "3248  https://www.dailymail.co.uk/debate/article-815...  \n",
       "3249  https://www.dailymail.co.uk/health/article-750...  \n",
       "3250  https://www.dailymail.co.uk/tvshowbiz/article-...  \n",
       "\n",
       "[3251 rows x 3 columns]"
      ]
     },
     "execution_count": 19,
     "metadata": {},
     "output_type": "execute_result"
    }
   ],
   "source": [
    "data"
   ]
  },
  {
   "cell_type": "code",
   "execution_count": 20,
   "metadata": {},
   "outputs": [],
   "source": [
    "# Remove all £$Euro signs"
   ]
  },
  {
   "cell_type": "code",
   "execution_count": 21,
   "metadata": {},
   "outputs": [],
   "source": [
    "data['headline'] = data['headline'].str.replace('£', '')\n",
    "data['headline'] = data['headline'].str.replace('€', '')\n",
    "data['headline'] = data['headline'].str.replace('$', '')\n",
    "data['headline'] = data['headline'].str.replace('ayear', 'a year')\n",
    "data['headline'] = data['headline'].str.replace('yearold', 'year old')\n"
   ]
  },
  {
   "cell_type": "code",
   "execution_count": 22,
   "metadata": {},
   "outputs": [],
   "source": [
    "# numbers converted to words"
   ]
  },
  {
   "cell_type": "code",
   "execution_count": 23,
   "metadata": {},
   "outputs": [],
   "source": [
    "from num2words import num2words "
   ]
  },
  {
   "cell_type": "code",
   "execution_count": 24,
   "metadata": {},
   "outputs": [],
   "source": [
    "def convert_num_to_words(headline):\n",
    "    headline = ' '.join([num2words(i) if i.isdigit() else i for i in headline.split()])\n",
    "    return headline"
   ]
  },
  {
   "cell_type": "code",
   "execution_count": 25,
   "metadata": {},
   "outputs": [],
   "source": [
    "data['headline'] = data['headline'].apply(convert_num_to_words)"
   ]
  },
  {
   "cell_type": "code",
   "execution_count": 26,
   "metadata": {
    "scrolled": true
   },
   "outputs": [
    {
     "data": {
      "text/html": [
       "<div>\n",
       "<style scoped>\n",
       "    .dataframe tbody tr th:only-of-type {\n",
       "        vertical-align: middle;\n",
       "    }\n",
       "\n",
       "    .dataframe tbody tr th {\n",
       "        vertical-align: top;\n",
       "    }\n",
       "\n",
       "    .dataframe thead th {\n",
       "        text-align: right;\n",
       "    }\n",
       "</style>\n",
       "<table border=\"1\" class=\"dataframe\">\n",
       "  <thead>\n",
       "    <tr style=\"text-align: right;\">\n",
       "      <th></th>\n",
       "      <th>date</th>\n",
       "      <th>headline</th>\n",
       "      <th>weblink</th>\n",
       "    </tr>\n",
       "  </thead>\n",
       "  <tbody>\n",
       "    <tr>\n",
       "      <th>0</th>\n",
       "      <td>18 January 2020</td>\n",
       "      <td>doctors fear immunotherapy could actually make...</td>\n",
       "      <td>https://www.dailymail.co.uk/health/article-790...</td>\n",
       "    </tr>\n",
       "    <tr>\n",
       "      <th>1</th>\n",
       "      <td>6 April 2020</td>\n",
       "      <td>james arthur jokes hes so happy hats were inve...</td>\n",
       "      <td>https://www.dailymail.co.uk/tvshowbiz/article-...</td>\n",
       "    </tr>\n",
       "    <tr>\n",
       "      <th>2</th>\n",
       "      <td>15 April 2020</td>\n",
       "      <td>the duke of westminster gives one hundred and ...</td>\n",
       "      <td>https://www.dailymail.co.uk/news/article-82208...</td>\n",
       "    </tr>\n",
       "    <tr>\n",
       "      <th>3</th>\n",
       "      <td>25 July 2020</td>\n",
       "      <td>covid crisis is destroying womens careers acco...</td>\n",
       "      <td>https://www.dailymail.co.uk/news/article-85586...</td>\n",
       "    </tr>\n",
       "    <tr>\n",
       "      <th>4</th>\n",
       "      <td>16 December 2019</td>\n",
       "      <td>student twenty-one battles sepsis after she ca...</td>\n",
       "      <td>https://www.dailymail.co.uk/health/article-779...</td>\n",
       "    </tr>\n",
       "    <tr>\n",
       "      <th>...</th>\n",
       "      <td>...</td>\n",
       "      <td>...</td>\n",
       "      <td>...</td>\n",
       "    </tr>\n",
       "    <tr>\n",
       "      <th>3246</th>\n",
       "      <td>9 December 2019</td>\n",
       "      <td>thrifty fatherofthree reveals how he saves two...</td>\n",
       "      <td>https://www.dailymail.co.uk/femail/article-773...</td>\n",
       "    </tr>\n",
       "    <tr>\n",
       "      <th>3247</th>\n",
       "      <td>20 December 2019</td>\n",
       "      <td>the cure viewers brand the show a heartbreakin...</td>\n",
       "      <td>https://www.dailymail.co.uk/femail/article-781...</td>\n",
       "    </tr>\n",
       "    <tr>\n",
       "      <th>3248</th>\n",
       "      <td>26 March 2020</td>\n",
       "      <td>sarah vine when we look back on these extraord...</td>\n",
       "      <td>https://www.dailymail.co.uk/debate/article-815...</td>\n",
       "    </tr>\n",
       "    <tr>\n",
       "      <th>3249</th>\n",
       "      <td>25 September 2019</td>\n",
       "      <td>men who struggle to become fathers are up to s...</td>\n",
       "      <td>https://www.dailymail.co.uk/health/article-750...</td>\n",
       "    </tr>\n",
       "    <tr>\n",
       "      <th>3250</th>\n",
       "      <td>16 May 2020</td>\n",
       "      <td>it feels good to do something so useful at a t...</td>\n",
       "      <td>https://www.dailymail.co.uk/tvshowbiz/article-...</td>\n",
       "    </tr>\n",
       "  </tbody>\n",
       "</table>\n",
       "<p>3251 rows × 3 columns</p>\n",
       "</div>"
      ],
      "text/plain": [
       "                     date                                           headline  \\\n",
       "0        18 January 2020   doctors fear immunotherapy could actually make...   \n",
       "1           6 April 2020   james arthur jokes hes so happy hats were inve...   \n",
       "2          15 April 2020   the duke of westminster gives one hundred and ...   \n",
       "3           25 July 2020   covid crisis is destroying womens careers acco...   \n",
       "4       16 December 2019   student twenty-one battles sepsis after she ca...   \n",
       "...                   ...                                                ...   \n",
       "3246     9 December 2019   thrifty fatherofthree reveals how he saves two...   \n",
       "3247    20 December 2019   the cure viewers brand the show a heartbreakin...   \n",
       "3248       26 March 2020   sarah vine when we look back on these extraord...   \n",
       "3249   25 September 2019   men who struggle to become fathers are up to s...   \n",
       "3250         16 May 2020   it feels good to do something so useful at a t...   \n",
       "\n",
       "                                                weblink  \n",
       "0     https://www.dailymail.co.uk/health/article-790...  \n",
       "1     https://www.dailymail.co.uk/tvshowbiz/article-...  \n",
       "2     https://www.dailymail.co.uk/news/article-82208...  \n",
       "3     https://www.dailymail.co.uk/news/article-85586...  \n",
       "4     https://www.dailymail.co.uk/health/article-779...  \n",
       "...                                                 ...  \n",
       "3246  https://www.dailymail.co.uk/femail/article-773...  \n",
       "3247  https://www.dailymail.co.uk/femail/article-781...  \n",
       "3248  https://www.dailymail.co.uk/debate/article-815...  \n",
       "3249  https://www.dailymail.co.uk/health/article-750...  \n",
       "3250  https://www.dailymail.co.uk/tvshowbiz/article-...  \n",
       "\n",
       "[3251 rows x 3 columns]"
      ]
     },
     "execution_count": 26,
     "metadata": {},
     "output_type": "execute_result"
    }
   ],
   "source": [
    "data"
   ]
  },
  {
   "cell_type": "markdown",
   "metadata": {},
   "source": [
    "# Inverse Document Frequency (IDF)\n"
   ]
  },
  {
   "cell_type": "code",
   "execution_count": 27,
   "metadata": {},
   "outputs": [],
   "source": [
    "def sentiment_anal(hedline):\n",
    "    from nltk.sentiment.vader import SentimentIntensityAnalyzer \n",
    "    sia = SentimentIntensityAnalyzer()\n",
    "    sentiment = (sia.polarity_scores(hedline)['compound'])\n",
    "    return sentiment "
   ]
  },
  {
   "cell_type": "code",
   "execution_count": 28,
   "metadata": {},
   "outputs": [],
   "source": [
    "data['overall_sentiment'] = data['headline'].apply(sentiment_anal)"
   ]
  },
  {
   "cell_type": "code",
   "execution_count": 29,
   "metadata": {},
   "outputs": [
    {
     "data": {
      "text/html": [
       "<div>\n",
       "<style scoped>\n",
       "    .dataframe tbody tr th:only-of-type {\n",
       "        vertical-align: middle;\n",
       "    }\n",
       "\n",
       "    .dataframe tbody tr th {\n",
       "        vertical-align: top;\n",
       "    }\n",
       "\n",
       "    .dataframe thead th {\n",
       "        text-align: right;\n",
       "    }\n",
       "</style>\n",
       "<table border=\"1\" class=\"dataframe\">\n",
       "  <thead>\n",
       "    <tr style=\"text-align: right;\">\n",
       "      <th></th>\n",
       "      <th>date</th>\n",
       "      <th>headline</th>\n",
       "      <th>weblink</th>\n",
       "      <th>overall_sentiment</th>\n",
       "    </tr>\n",
       "  </thead>\n",
       "  <tbody>\n",
       "    <tr>\n",
       "      <th>0</th>\n",
       "      <td>18 January 2020</td>\n",
       "      <td>doctors fear immunotherapy could actually make...</td>\n",
       "      <td>https://www.dailymail.co.uk/health/article-790...</td>\n",
       "      <td>-0.8945</td>\n",
       "    </tr>\n",
       "    <tr>\n",
       "      <th>1</th>\n",
       "      <td>6 April 2020</td>\n",
       "      <td>james arthur jokes hes so happy hats were inve...</td>\n",
       "      <td>https://www.dailymail.co.uk/tvshowbiz/article-...</td>\n",
       "      <td>0.7178</td>\n",
       "    </tr>\n",
       "    <tr>\n",
       "      <th>2</th>\n",
       "      <td>15 April 2020</td>\n",
       "      <td>the duke of westminster gives one hundred and ...</td>\n",
       "      <td>https://www.dailymail.co.uk/news/article-82208...</td>\n",
       "      <td>-0.3818</td>\n",
       "    </tr>\n",
       "    <tr>\n",
       "      <th>3</th>\n",
       "      <td>25 July 2020</td>\n",
       "      <td>covid crisis is destroying womens careers acco...</td>\n",
       "      <td>https://www.dailymail.co.uk/news/article-85586...</td>\n",
       "      <td>-0.8271</td>\n",
       "    </tr>\n",
       "    <tr>\n",
       "      <th>4</th>\n",
       "      <td>16 December 2019</td>\n",
       "      <td>student twenty-one battles sepsis after she ca...</td>\n",
       "      <td>https://www.dailymail.co.uk/health/article-779...</td>\n",
       "      <td>0.0258</td>\n",
       "    </tr>\n",
       "    <tr>\n",
       "      <th>...</th>\n",
       "      <td>...</td>\n",
       "      <td>...</td>\n",
       "      <td>...</td>\n",
       "      <td>...</td>\n",
       "    </tr>\n",
       "    <tr>\n",
       "      <th>3246</th>\n",
       "      <td>9 December 2019</td>\n",
       "      <td>thrifty fatherofthree reveals how he saves two...</td>\n",
       "      <td>https://www.dailymail.co.uk/femail/article-773...</td>\n",
       "      <td>0.0000</td>\n",
       "    </tr>\n",
       "    <tr>\n",
       "      <th>3247</th>\n",
       "      <td>20 December 2019</td>\n",
       "      <td>the cure viewers brand the show a heartbreakin...</td>\n",
       "      <td>https://www.dailymail.co.uk/femail/article-781...</td>\n",
       "      <td>-0.8442</td>\n",
       "    </tr>\n",
       "    <tr>\n",
       "      <th>3248</th>\n",
       "      <td>26 March 2020</td>\n",
       "      <td>sarah vine when we look back on these extraord...</td>\n",
       "      <td>https://www.dailymail.co.uk/debate/article-815...</td>\n",
       "      <td>-0.4019</td>\n",
       "    </tr>\n",
       "    <tr>\n",
       "      <th>3249</th>\n",
       "      <td>25 September 2019</td>\n",
       "      <td>men who struggle to become fathers are up to s...</td>\n",
       "      <td>https://www.dailymail.co.uk/health/article-750...</td>\n",
       "      <td>-0.7717</td>\n",
       "    </tr>\n",
       "    <tr>\n",
       "      <th>3250</th>\n",
       "      <td>16 May 2020</td>\n",
       "      <td>it feels good to do something so useful at a t...</td>\n",
       "      <td>https://www.dailymail.co.uk/tvshowbiz/article-...</td>\n",
       "      <td>0.8966</td>\n",
       "    </tr>\n",
       "  </tbody>\n",
       "</table>\n",
       "<p>3251 rows × 4 columns</p>\n",
       "</div>"
      ],
      "text/plain": [
       "                     date                                           headline  \\\n",
       "0        18 January 2020   doctors fear immunotherapy could actually make...   \n",
       "1           6 April 2020   james arthur jokes hes so happy hats were inve...   \n",
       "2          15 April 2020   the duke of westminster gives one hundred and ...   \n",
       "3           25 July 2020   covid crisis is destroying womens careers acco...   \n",
       "4       16 December 2019   student twenty-one battles sepsis after she ca...   \n",
       "...                   ...                                                ...   \n",
       "3246     9 December 2019   thrifty fatherofthree reveals how he saves two...   \n",
       "3247    20 December 2019   the cure viewers brand the show a heartbreakin...   \n",
       "3248       26 March 2020   sarah vine when we look back on these extraord...   \n",
       "3249   25 September 2019   men who struggle to become fathers are up to s...   \n",
       "3250         16 May 2020   it feels good to do something so useful at a t...   \n",
       "\n",
       "                                                weblink  overall_sentiment  \n",
       "0     https://www.dailymail.co.uk/health/article-790...            -0.8945  \n",
       "1     https://www.dailymail.co.uk/tvshowbiz/article-...             0.7178  \n",
       "2     https://www.dailymail.co.uk/news/article-82208...            -0.3818  \n",
       "3     https://www.dailymail.co.uk/news/article-85586...            -0.8271  \n",
       "4     https://www.dailymail.co.uk/health/article-779...             0.0258  \n",
       "...                                                 ...                ...  \n",
       "3246  https://www.dailymail.co.uk/femail/article-773...             0.0000  \n",
       "3247  https://www.dailymail.co.uk/femail/article-781...            -0.8442  \n",
       "3248  https://www.dailymail.co.uk/debate/article-815...            -0.4019  \n",
       "3249  https://www.dailymail.co.uk/health/article-750...            -0.7717  \n",
       "3250  https://www.dailymail.co.uk/tvshowbiz/article-...             0.8966  \n",
       "\n",
       "[3251 rows x 4 columns]"
      ]
     },
     "execution_count": 29,
     "metadata": {},
     "output_type": "execute_result"
    }
   ],
   "source": [
    "data"
   ]
  },
  {
   "cell_type": "markdown",
   "metadata": {},
   "source": [
    "# Datetime Object"
   ]
  },
  {
   "cell_type": "code",
   "execution_count": 30,
   "metadata": {},
   "outputs": [],
   "source": [
    "from datetime import datetime"
   ]
  },
  {
   "cell_type": "code",
   "execution_count": 31,
   "metadata": {},
   "outputs": [],
   "source": [
    "data = data[data['date'] != 'No date given']"
   ]
  },
  {
   "cell_type": "code",
   "execution_count": 32,
   "metadata": {},
   "outputs": [],
   "source": [
    "def date_times(x):\n",
    "    new_date = x[1:-1]\n",
    "    date = datetime.strptime(new_date, \"%d %B %Y\").date()        \n",
    "    return date\n",
    "\n",
    "def week_num(x):\n",
    "    week = x.isocalendar()[1]\n",
    "    return week\n",
    "\n",
    "def year(x):\n",
    "    year = x.year\n",
    "    return year\n",
    "\n",
    "def week_year(x):\n",
    "    week = x.isocalendar()[1]\n",
    "    year = x.year\n",
    "    unique_key = str(year) + str(\"-\") + str(week)\n",
    "    return unique_key\n",
    "\n",
    "def month_year(x):\n",
    "    month = x.month\n",
    "    year = x.year\n",
    "    unique_key = str(year) + str(\"-\") + str(month)\n",
    "    return unique_key"
   ]
  },
  {
   "cell_type": "code",
   "execution_count": 33,
   "metadata": {},
   "outputs": [
    {
     "name": "stderr",
     "output_type": "stream",
     "text": [
      "<ipython-input-33-c9fdb8294289>:1: SettingWithCopyWarning: \n",
      "A value is trying to be set on a copy of a slice from a DataFrame.\n",
      "Try using .loc[row_indexer,col_indexer] = value instead\n",
      "\n",
      "See the caveats in the documentation: https://pandas.pydata.org/pandas-docs/stable/user_guide/indexing.html#returning-a-view-versus-a-copy\n",
      "  data['date'] = data['date'].apply(date_times)\n"
     ]
    }
   ],
   "source": [
    "data['date'] = data['date'].apply(date_times)"
   ]
  },
  {
   "cell_type": "code",
   "execution_count": 34,
   "metadata": {},
   "outputs": [
    {
     "name": "stderr",
     "output_type": "stream",
     "text": [
      "<ipython-input-34-a2817e611fe7>:1: SettingWithCopyWarning: \n",
      "A value is trying to be set on a copy of a slice from a DataFrame.\n",
      "Try using .loc[row_indexer,col_indexer] = value instead\n",
      "\n",
      "See the caveats in the documentation: https://pandas.pydata.org/pandas-docs/stable/user_guide/indexing.html#returning-a-view-versus-a-copy\n",
      "  data[\"week\"]=data[\"date\"].apply(week_num)\n"
     ]
    }
   ],
   "source": [
    "data[\"week\"]=data[\"date\"].apply(week_num)"
   ]
  },
  {
   "cell_type": "code",
   "execution_count": 35,
   "metadata": {},
   "outputs": [
    {
     "name": "stderr",
     "output_type": "stream",
     "text": [
      "<ipython-input-35-4b9c8b6757ce>:1: SettingWithCopyWarning: \n",
      "A value is trying to be set on a copy of a slice from a DataFrame.\n",
      "Try using .loc[row_indexer,col_indexer] = value instead\n",
      "\n",
      "See the caveats in the documentation: https://pandas.pydata.org/pandas-docs/stable/user_guide/indexing.html#returning-a-view-versus-a-copy\n",
      "  data[\"year\"]=data[\"date\"].apply(year)\n"
     ]
    }
   ],
   "source": [
    "data[\"year\"]=data[\"date\"].apply(year)"
   ]
  },
  {
   "cell_type": "code",
   "execution_count": 36,
   "metadata": {},
   "outputs": [
    {
     "name": "stderr",
     "output_type": "stream",
     "text": [
      "<ipython-input-36-a968cab8ebbd>:1: SettingWithCopyWarning: \n",
      "A value is trying to be set on a copy of a slice from a DataFrame.\n",
      "Try using .loc[row_indexer,col_indexer] = value instead\n",
      "\n",
      "See the caveats in the documentation: https://pandas.pydata.org/pandas-docs/stable/user_guide/indexing.html#returning-a-view-versus-a-copy\n",
      "  data[\"week_year\"]=data[\"date\"].apply(week_year)\n"
     ]
    }
   ],
   "source": [
    "data[\"week_year\"]=data[\"date\"].apply(week_year)"
   ]
  },
  {
   "cell_type": "code",
   "execution_count": 37,
   "metadata": {},
   "outputs": [
    {
     "name": "stderr",
     "output_type": "stream",
     "text": [
      "<ipython-input-37-25c6a2524de6>:1: SettingWithCopyWarning: \n",
      "A value is trying to be set on a copy of a slice from a DataFrame.\n",
      "Try using .loc[row_indexer,col_indexer] = value instead\n",
      "\n",
      "See the caveats in the documentation: https://pandas.pydata.org/pandas-docs/stable/user_guide/indexing.html#returning-a-view-versus-a-copy\n",
      "  data[\"month_year\"]=data[\"date\"].apply(month_year)\n"
     ]
    }
   ],
   "source": [
    "data[\"month_year\"]=data[\"date\"].apply(month_year)"
   ]
  },
  {
   "cell_type": "code",
   "execution_count": 39,
   "metadata": {},
   "outputs": [
    {
     "name": "stderr",
     "output_type": "stream",
     "text": [
      "<ipython-input-39-332fd8fffc5a>:1: SettingWithCopyWarning: \n",
      "A value is trying to be set on a copy of a slice from a DataFrame.\n",
      "Try using .loc[row_indexer,col_indexer] = value instead\n",
      "\n",
      "See the caveats in the documentation: https://pandas.pydata.org/pandas-docs/stable/user_guide/indexing.html#returning-a-view-versus-a-copy\n",
      "  data['median_week_year_rating'] = data.groupby('week_year', observed=True)['overall_sentiment'].transform('median')\n",
      "<ipython-input-39-332fd8fffc5a>:2: SettingWithCopyWarning: \n",
      "A value is trying to be set on a copy of a slice from a DataFrame.\n",
      "Try using .loc[row_indexer,col_indexer] = value instead\n",
      "\n",
      "See the caveats in the documentation: https://pandas.pydata.org/pandas-docs/stable/user_guide/indexing.html#returning-a-view-versus-a-copy\n",
      "  data['median_month_year_rating'] = data.groupby('month_year', observed=True)['overall_sentiment'].transform('median')\n",
      "<ipython-input-39-332fd8fffc5a>:3: SettingWithCopyWarning: \n",
      "A value is trying to be set on a copy of a slice from a DataFrame.\n",
      "Try using .loc[row_indexer,col_indexer] = value instead\n",
      "\n",
      "See the caveats in the documentation: https://pandas.pydata.org/pandas-docs/stable/user_guide/indexing.html#returning-a-view-versus-a-copy\n",
      "  data['mode_week_year_rating'] = data.groupby('week_year', observed=True)['overall_sentiment'].transform('mean')\n",
      "<ipython-input-39-332fd8fffc5a>:4: SettingWithCopyWarning: \n",
      "A value is trying to be set on a copy of a slice from a DataFrame.\n",
      "Try using .loc[row_indexer,col_indexer] = value instead\n",
      "\n",
      "See the caveats in the documentation: https://pandas.pydata.org/pandas-docs/stable/user_guide/indexing.html#returning-a-view-versus-a-copy\n",
      "  data['mode_month_year_rating'] = data.groupby('month_year', observed=True)['overall_sentiment'].transform('mean')\n"
     ]
    }
   ],
   "source": [
    "data['median_week_year_rating'] = data.groupby('week_year', observed=True)['overall_sentiment'].transform('median')\n",
    "data['median_month_year_rating'] = data.groupby('month_year', observed=True)['overall_sentiment'].transform('median')\n",
    "data['mode_week_year_rating'] = data.groupby('week_year', observed=True)['overall_sentiment'].transform('mean')\n",
    "data['mode_month_year_rating'] = data.groupby('month_year', observed=True)['overall_sentiment'].transform('mean')"
   ]
  },
  {
   "cell_type": "code",
   "execution_count": 44,
   "metadata": {},
   "outputs": [
    {
     "ename": "NameError",
     "evalue": "name 'unique' is not defined",
     "output_type": "error",
     "traceback": [
      "\u001b[1;31m---------------------------------------------------------------------------\u001b[0m",
      "\u001b[1;31mNameError\u001b[0m                                 Traceback (most recent call last)",
      "\u001b[1;32m<ipython-input-44-7721ed9179bf>\u001b[0m in \u001b[0;36m<module>\u001b[1;34m\u001b[0m\n\u001b[1;32m----> 1\u001b[1;33m \u001b[0mdata\u001b[0m\u001b[1;33m[\u001b[0m\u001b[0mdata\u001b[0m\u001b[1;33m[\u001b[0m\u001b[1;34m'mode_month_year_rating'\u001b[0m\u001b[1;33m]\u001b[0m\u001b[1;33m==\u001b[0m\u001b[0munique\u001b[0m\u001b[1;33m(\u001b[0m\u001b[1;33m)\u001b[0m\u001b[1;33m]\u001b[0m\u001b[1;33m\u001b[0m\u001b[1;33m\u001b[0m\u001b[0m\n\u001b[0m",
      "\u001b[1;31mNameError\u001b[0m: name 'unique' is not defined"
     ]
    }
   ],
   "source": [
    "data[data['']==unique()]"
   ]
  },
  {
   "cell_type": "code",
   "execution_count": null,
   "metadata": {},
   "outputs": [],
   "source": [
    "data['average_rating'].unique()"
   ]
  },
  {
   "cell_type": "markdown",
   "metadata": {},
   "source": [
    "# EDA"
   ]
  },
  {
   "cell_type": "code",
   "execution_count": null,
   "metadata": {},
   "outputs": [],
   "source": [
    "n"
   ]
  },
  {
   "cell_type": "markdown",
   "metadata": {},
   "source": [
    "# Time Series"
   ]
  },
  {
   "cell_type": "code",
   "execution_count": 42,
   "metadata": {},
   "outputs": [],
   "source": [
    "from matplotlib import pyplot\n"
   ]
  },
  {
   "cell_type": "code",
   "execution_count": null,
   "metadata": {},
   "outputs": [],
   "source": [
    "df.plot()\n",
    "pyplot.show()"
   ]
  },
  {
   "cell_type": "code",
   "execution_count": null,
   "metadata": {},
   "outputs": [],
   "source": [
    "import matplotlib.pyplot as plt"
   ]
  },
  {
   "cell_type": "code",
   "execution_count": null,
   "metadata": {},
   "outputs": [],
   "source": [
    "data.sort_values(by='date', inplace=True)\n",
    "data.index = pd.to_datetime(data['date'])\n",
    "data['mean'] = data['overall_sentiment'].expanding().mean()\n",
    "# df['rolling'] = df['overall_sentiment'].rolling('6h').mean()\n"
   ]
  },
  {
   "cell_type": "code",
   "execution_count": null,
   "metadata": {},
   "outputs": [],
   "source": [
    "fig = plt.figure(figsize=(20,5))\n",
    "ax = fig.add_subplot(111)\n",
    "ax.scatter(data['date'],data['overall_sentiment'], label='Headline Sentiment')\n",
    "ax.plot(data['date'],data['mean'], color='y', label='Expanding Mean')\n"
   ]
  },
  {
   "cell_type": "code",
   "execution_count": null,
   "metadata": {},
   "outputs": [],
   "source": []
  }
 ],
 "metadata": {
  "kernelspec": {
   "display_name": "Python 3",
   "language": "python",
   "name": "python3"
  },
  "language_info": {
   "codemirror_mode": {
    "name": "ipython",
    "version": 3
   },
   "file_extension": ".py",
   "mimetype": "text/x-python",
   "name": "python",
   "nbconvert_exporter": "python",
   "pygments_lexer": "ipython3",
   "version": "3.8.5"
  }
 },
 "nbformat": 4,
 "nbformat_minor": 4
}
