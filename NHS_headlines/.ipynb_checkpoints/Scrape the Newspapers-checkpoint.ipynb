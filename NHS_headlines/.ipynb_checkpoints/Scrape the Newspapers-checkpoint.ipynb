{
 "cells": [
  {
   "cell_type": "code",
   "execution_count": 6,
   "metadata": {},
   "outputs": [],
   "source": [
    "from selenium import webdriver\n",
    "from selenium.webdriver.common.by import By\n",
    "from selenium.webdriver.common.keys import Keys\n",
    "from selenium.webdriver.support.ui import WebDriverWait\n",
    "from selenium.webdriver.support import expected_conditions as EC\n",
    "from requests import get\n",
    "from random import randint\n",
    "PATH = (\"C:/Users/jw156/Ironhack/CareerHack/chromedriver.exe\")\n",
    "import pandas as pd\n",
    "from datetime import date, timedelta\n",
    "import time"
   ]
  },
  {
   "cell_type": "markdown",
   "metadata": {},
   "source": [
    "1. Scrape the headline, first para.\n",
    "2. date: newspaper: tabload or broad: text: sentiment\n",
    "3. Shuffle the dataset and kmeans.\n",
    "shuffle the dataset, before and after"
   ]
  },
  {
   "cell_type": "markdown",
   "metadata": {},
   "source": [
    "Claim: The lockdown began on 16 March 2020, when Matt Hancock told the House of Commons that all unnecessary social contact should cease.\n"
   ]
  },
  {
   "cell_type": "markdown",
   "metadata": {},
   "source": [
    "### Links to websites"
   ]
  },
  {
   "cell_type": "code",
   "execution_count": 7,
   "metadata": {},
   "outputs": [],
   "source": [
    "websites_google_search = ['theguardian.com', 'thesun.co.uk', 'mirror.co.uk', 'express.co.uk', 'independent.co.uk', 'telegraph.co.uk', 'thetimes.co.uk', 'dailymail.co.uk', 'ft.com']"
   ]
  },
  {
   "cell_type": "markdown",
   "metadata": {},
   "source": [
    "### Finding the dates between Date Range "
   ]
  },
  {
   "cell_type": "code",
   "execution_count": 8,
   "metadata": {},
   "outputs": [],
   "source": [
    "sdate = date(2019,11, 16)   # start date\n",
    "edate = date(2020, 7, 16)   # end date\n"
   ]
  },
  {
   "cell_type": "code",
   "execution_count": 9,
   "metadata": {},
   "outputs": [],
   "source": [
    "all_search_dates = pd.date_range(sdate,edate-timedelta(days=1),freq='d')"
   ]
  },
  {
   "cell_type": "code",
   "execution_count": 10,
   "metadata": {},
   "outputs": [],
   "source": [
    "# Changing format so it matches google requirements"
   ]
  },
  {
   "cell_type": "code",
   "execution_count": 11,
   "metadata": {},
   "outputs": [],
   "source": [
    "search_days = [day.strftime('%m-%d-%Y') for day in all_search_dates]"
   ]
  },
  {
   "cell_type": "markdown",
   "metadata": {},
   "source": [
    "# Selenium Search Functions"
   ]
  },
  {
   "cell_type": "code",
   "execution_count": 12,
   "metadata": {},
   "outputs": [],
   "source": [
    "# def agent_browser():\n",
    "#     from selenium.webdriver.chrome.options import Options\n",
    "#     from fake_useragent import UserAgent\n",
    "#     options = Options()\n",
    "#     ua = UserAgent()\n",
    "#     userAgent = ua.random\n",
    "#     options.add_argument(f'user-agent={userAgent}')\n",
    "#     driver = webdriver.Chrome(chrome_options=options, executable_path=PATH)\n",
    "#     driver.get('http://www.google.com')\n",
    "#         search = driver.find_element_by_name('q')\n",
    "#     random_i = randint(5, 15)\n",
    "#     driver.implicitly_wait(random_i)\n",
    "#     # Enter search \n",
    "#     search.send_keys(f'{subject} site:{website}')\n",
    "#     # hit return after you enter search text\n",
    "#     search.send_keys(Keys.RETURN) \n",
    "#     return driver\n",
    "\n",
    "def search_selenium(subject, website):\n",
    "    from selenium.webdriver.support.ui import WebDriverWait\n",
    "    from selenium.webdriver.support import expected_conditions as EC\n",
    "    from random import randint\n",
    "    driver = webdriver.Chrome(PATH)\n",
    "    #will search on google\n",
    "    driver.get('http://www.google.com')\n",
    "    search = driver.find_element_by_name('q')\n",
    "    random_i = randint(5, 15)\n",
    "    driver.implicitly_wait(random_i)\n",
    "    # Enter search \n",
    "    search.send_keys(f'{subject} site:{website}')\n",
    "    # hit return after you enter search text\n",
    "    search.send_keys(Keys.RETURN) \n",
    "    return driver\n",
    "\n",
    "def enter_date(driver, start_date, end_date):\n",
    "    from random import randint\n",
    "    # Find the tool bar\n",
    "    element = driver.find_element_by_id('hdtb-tls')\n",
    "    driver.execute_script(\"arguments[0].click();\", element)\n",
    "    #sleep\n",
    "    random_i = randint(5, 15)\n",
    "    driver.implicitly_wait(random_i)\n",
    "    # Click on the date bar\n",
    "    element2 = driver.find_element_by_class_name('hdtb-mn-hd')\n",
    "    driver.execute_script(\"arguments[0].click();\", element2)\n",
    "    # Find the Customer Range menu\n",
    "    element3 = driver.find_element_by_class_name('ErsxPb.gvybPb')\n",
    "    driver.execute_script(\"arguments[0].click();\", element3)\n",
    "    #sleep\n",
    "    random_i = randint(5, 15)\n",
    "    driver.implicitly_wait(random_i)\n",
    "    # Click the Customer Range menu\n",
    "    element4 = WebDriverWait(driver, 25).until(EC.presence_of_element_located((By.XPATH, '//*[@id=\"lb\"]/div[2]/g-menu/g-menu-item[7]/div/div/span')))\n",
    "    driver.execute_script(\"arguments[0].click();\", element4)\n",
    "    # Input Start Date\n",
    "    element5 = driver.find_element_by_xpath('//*[@id=\"OouJcb\"]')\n",
    "    element5.send_keys(start_date)\n",
    "    # Input End Date\n",
    "    element6 = driver.find_element_by_xpath('//*[@id=\"rzG2be\"]')\n",
    "    element6.send_keys(end_date)\n",
    "    # Random Sleep\n",
    "    random_i = randint(5, 15)\n",
    "    driver.implicitly_wait(random_i)\n",
    "    # Submit Date\n",
    "    element7 = driver.find_element_by_xpath('//*[@id=\"T3kYXe\"]/g-button')\n",
    "    driver.execute_script(\"arguments[0].click();\", element7)\n",
    "    return driver\n",
    "\n",
    "def find_hrefs(driver, list_articles):\n",
    "    from selenium.webdriver.support.ui import WebDriverWait\n",
    "    from selenium.webdriver.support import expected_conditions as EC\n",
    "    from random import randint\n",
    "    random_i = randint(5, 15)\n",
    "    driver.implicitly_wait(random_i)\n",
    "    results = driver.find_elements_by_css_selector('div.g')\n",
    "    for i in range(len(results)):\n",
    "        random_i = randint(5, 15)\n",
    "        driver.implicitly_wait(random_i)\n",
    "        link = results[i].find_element_by_tag_name(\"a\")\n",
    "        href = link.get_attribute(\"href\")\n",
    "        list_articles.append(href)\n",
    "    return list_articles, driver\n",
    "\n",
    "def next_page(driver):\n",
    "    from selenium.webdriver.support.ui import WebDriverWait\n",
    "    from selenium.webdriver.support import expected_conditions as EC\n",
    "    from random import randint\n",
    "    try:\n",
    "        random_i = randint(5, 15)\n",
    "        time.sleep(random_i)\n",
    "        next_page = driver.find_element_by_xpath(\"//*[@id='pnnext']\").get_attribute(\"href\")\n",
    "        random_i = randint(5, 15)\n",
    "        driver.implicitly_wait(random_i)\n",
    "        driver.get(next_page)\n",
    "        no_more_pages = False\n",
    "        return no_more_pages\n",
    "    \n",
    "    except:\n",
    "        print(\"no more pages left\")\n",
    "        no_more_pages = True\n",
    "        return no_more_pages\n",
    "    \n",
    "  "
   ]
  },
  {
   "cell_type": "markdown",
   "metadata": {},
   "source": [
    "# Calling the Functions"
   ]
  },
  {
   "cell_type": "code",
   "execution_count": 13,
   "metadata": {},
   "outputs": [],
   "source": [
    "list_articles = []"
   ]
  },
  {
   "cell_type": "code",
   "execution_count": 14,
   "metadata": {},
   "outputs": [],
   "source": [
    "websites = ['dailymail.co.uk']"
   ]
  },
  {
   "cell_type": "code",
   "execution_count": 15,
   "metadata": {},
   "outputs": [
    {
     "name": "stdout",
     "output_type": "stream",
     "text": [
      "no more pages left\n",
      "no more pages left\n",
      "no more pages left\n"
     ]
    },
    {
     "ename": "NoSuchElementException",
     "evalue": "Message: no such element: Unable to locate element: {\"method\":\"css selector\",\"selector\":\"[id=\"hdtb-tls\"]\"}\n  (Session info: chrome=88.0.4324.190)\n",
     "output_type": "error",
     "traceback": [
      "\u001b[1;31m---------------------------------------------------------------------------\u001b[0m",
      "\u001b[1;31mNoSuchElementException\u001b[0m                    Traceback (most recent call last)",
      "\u001b[1;32m<ipython-input-15-c178dd07a707>\u001b[0m in \u001b[0;36m<module>\u001b[1;34m\u001b[0m\n\u001b[0;32m      8\u001b[0m         \u001b[0mstart_date\u001b[0m \u001b[1;33m=\u001b[0m \u001b[0msearch_days\u001b[0m\u001b[1;33m[\u001b[0m\u001b[0mi\u001b[0m\u001b[1;33m]\u001b[0m\u001b[1;33m\u001b[0m\u001b[1;33m\u001b[0m\u001b[0m\n\u001b[0;32m      9\u001b[0m         \u001b[0mend_date\u001b[0m \u001b[1;33m=\u001b[0m \u001b[0msearch_days\u001b[0m\u001b[1;33m[\u001b[0m\u001b[0mi\u001b[0m \u001b[1;33m+\u001b[0m \u001b[1;36m30\u001b[0m\u001b[1;33m]\u001b[0m\u001b[1;33m\u001b[0m\u001b[1;33m\u001b[0m\u001b[0m\n\u001b[1;32m---> 10\u001b[1;33m         \u001b[0mdated_website\u001b[0m \u001b[1;33m=\u001b[0m \u001b[0menter_date\u001b[0m\u001b[1;33m(\u001b[0m\u001b[0msearch_result\u001b[0m\u001b[1;33m,\u001b[0m \u001b[0mstart_date\u001b[0m\u001b[1;33m,\u001b[0m \u001b[0mend_date\u001b[0m\u001b[1;33m)\u001b[0m\u001b[1;33m\u001b[0m\u001b[1;33m\u001b[0m\u001b[0m\n\u001b[0m\u001b[0;32m     11\u001b[0m         \u001b[0mi\u001b[0m \u001b[1;33m+=\u001b[0m \u001b[1;36m30\u001b[0m\u001b[1;33m\u001b[0m\u001b[1;33m\u001b[0m\u001b[0m\n\u001b[0;32m     12\u001b[0m         \u001b[0mno_more_pages\u001b[0m \u001b[1;33m=\u001b[0m \u001b[1;32mFalse\u001b[0m\u001b[1;33m\u001b[0m\u001b[1;33m\u001b[0m\u001b[0m\n",
      "\u001b[1;32m<ipython-input-12-7366a8f705b7>\u001b[0m in \u001b[0;36menter_date\u001b[1;34m(driver, start_date, end_date)\u001b[0m\n\u001b[0;32m     36\u001b[0m     \u001b[1;32mfrom\u001b[0m \u001b[0mrandom\u001b[0m \u001b[1;32mimport\u001b[0m \u001b[0mrandint\u001b[0m\u001b[1;33m\u001b[0m\u001b[1;33m\u001b[0m\u001b[0m\n\u001b[0;32m     37\u001b[0m     \u001b[1;31m# Find the tool bar\u001b[0m\u001b[1;33m\u001b[0m\u001b[1;33m\u001b[0m\u001b[1;33m\u001b[0m\u001b[0m\n\u001b[1;32m---> 38\u001b[1;33m     \u001b[0melement\u001b[0m \u001b[1;33m=\u001b[0m \u001b[0mdriver\u001b[0m\u001b[1;33m.\u001b[0m\u001b[0mfind_element_by_id\u001b[0m\u001b[1;33m(\u001b[0m\u001b[1;34m'hdtb-tls'\u001b[0m\u001b[1;33m)\u001b[0m\u001b[1;33m\u001b[0m\u001b[1;33m\u001b[0m\u001b[0m\n\u001b[0m\u001b[0;32m     39\u001b[0m     \u001b[0mdriver\u001b[0m\u001b[1;33m.\u001b[0m\u001b[0mexecute_script\u001b[0m\u001b[1;33m(\u001b[0m\u001b[1;34m\"arguments[0].click();\"\u001b[0m\u001b[1;33m,\u001b[0m \u001b[0melement\u001b[0m\u001b[1;33m)\u001b[0m\u001b[1;33m\u001b[0m\u001b[1;33m\u001b[0m\u001b[0m\n\u001b[0;32m     40\u001b[0m     \u001b[1;31m#sleep\u001b[0m\u001b[1;33m\u001b[0m\u001b[1;33m\u001b[0m\u001b[1;33m\u001b[0m\u001b[0m\n",
      "\u001b[1;32m~\\Anaconda3\\lib\\site-packages\\selenium\\webdriver\\remote\\webdriver.py\u001b[0m in \u001b[0;36mfind_element_by_id\u001b[1;34m(self, id_)\u001b[0m\n\u001b[0;32m    358\u001b[0m             \u001b[0melement\u001b[0m \u001b[1;33m=\u001b[0m \u001b[0mdriver\u001b[0m\u001b[1;33m.\u001b[0m\u001b[0mfind_element_by_id\u001b[0m\u001b[1;33m(\u001b[0m\u001b[1;34m'foo'\u001b[0m\u001b[1;33m)\u001b[0m\u001b[1;33m\u001b[0m\u001b[1;33m\u001b[0m\u001b[0m\n\u001b[0;32m    359\u001b[0m         \"\"\"\n\u001b[1;32m--> 360\u001b[1;33m         \u001b[1;32mreturn\u001b[0m \u001b[0mself\u001b[0m\u001b[1;33m.\u001b[0m\u001b[0mfind_element\u001b[0m\u001b[1;33m(\u001b[0m\u001b[0mby\u001b[0m\u001b[1;33m=\u001b[0m\u001b[0mBy\u001b[0m\u001b[1;33m.\u001b[0m\u001b[0mID\u001b[0m\u001b[1;33m,\u001b[0m \u001b[0mvalue\u001b[0m\u001b[1;33m=\u001b[0m\u001b[0mid_\u001b[0m\u001b[1;33m)\u001b[0m\u001b[1;33m\u001b[0m\u001b[1;33m\u001b[0m\u001b[0m\n\u001b[0m\u001b[0;32m    361\u001b[0m \u001b[1;33m\u001b[0m\u001b[0m\n\u001b[0;32m    362\u001b[0m     \u001b[1;32mdef\u001b[0m \u001b[0mfind_elements_by_id\u001b[0m\u001b[1;33m(\u001b[0m\u001b[0mself\u001b[0m\u001b[1;33m,\u001b[0m \u001b[0mid_\u001b[0m\u001b[1;33m)\u001b[0m\u001b[1;33m:\u001b[0m\u001b[1;33m\u001b[0m\u001b[1;33m\u001b[0m\u001b[0m\n",
      "\u001b[1;32m~\\Anaconda3\\lib\\site-packages\\selenium\\webdriver\\remote\\webdriver.py\u001b[0m in \u001b[0;36mfind_element\u001b[1;34m(self, by, value)\u001b[0m\n\u001b[0;32m    974\u001b[0m                 \u001b[0mby\u001b[0m \u001b[1;33m=\u001b[0m \u001b[0mBy\u001b[0m\u001b[1;33m.\u001b[0m\u001b[0mCSS_SELECTOR\u001b[0m\u001b[1;33m\u001b[0m\u001b[1;33m\u001b[0m\u001b[0m\n\u001b[0;32m    975\u001b[0m                 \u001b[0mvalue\u001b[0m \u001b[1;33m=\u001b[0m \u001b[1;34m'[name=\"%s\"]'\u001b[0m \u001b[1;33m%\u001b[0m \u001b[0mvalue\u001b[0m\u001b[1;33m\u001b[0m\u001b[1;33m\u001b[0m\u001b[0m\n\u001b[1;32m--> 976\u001b[1;33m         return self.execute(Command.FIND_ELEMENT, {\n\u001b[0m\u001b[0;32m    977\u001b[0m             \u001b[1;34m'using'\u001b[0m\u001b[1;33m:\u001b[0m \u001b[0mby\u001b[0m\u001b[1;33m,\u001b[0m\u001b[1;33m\u001b[0m\u001b[1;33m\u001b[0m\u001b[0m\n\u001b[0;32m    978\u001b[0m             'value': value})['value']\n",
      "\u001b[1;32m~\\Anaconda3\\lib\\site-packages\\selenium\\webdriver\\remote\\webdriver.py\u001b[0m in \u001b[0;36mexecute\u001b[1;34m(self, driver_command, params)\u001b[0m\n\u001b[0;32m    319\u001b[0m         \u001b[0mresponse\u001b[0m \u001b[1;33m=\u001b[0m \u001b[0mself\u001b[0m\u001b[1;33m.\u001b[0m\u001b[0mcommand_executor\u001b[0m\u001b[1;33m.\u001b[0m\u001b[0mexecute\u001b[0m\u001b[1;33m(\u001b[0m\u001b[0mdriver_command\u001b[0m\u001b[1;33m,\u001b[0m \u001b[0mparams\u001b[0m\u001b[1;33m)\u001b[0m\u001b[1;33m\u001b[0m\u001b[1;33m\u001b[0m\u001b[0m\n\u001b[0;32m    320\u001b[0m         \u001b[1;32mif\u001b[0m \u001b[0mresponse\u001b[0m\u001b[1;33m:\u001b[0m\u001b[1;33m\u001b[0m\u001b[1;33m\u001b[0m\u001b[0m\n\u001b[1;32m--> 321\u001b[1;33m             \u001b[0mself\u001b[0m\u001b[1;33m.\u001b[0m\u001b[0merror_handler\u001b[0m\u001b[1;33m.\u001b[0m\u001b[0mcheck_response\u001b[0m\u001b[1;33m(\u001b[0m\u001b[0mresponse\u001b[0m\u001b[1;33m)\u001b[0m\u001b[1;33m\u001b[0m\u001b[1;33m\u001b[0m\u001b[0m\n\u001b[0m\u001b[0;32m    322\u001b[0m             response['value'] = self._unwrap_value(\n\u001b[0;32m    323\u001b[0m                 response.get('value', None))\n",
      "\u001b[1;32m~\\Anaconda3\\lib\\site-packages\\selenium\\webdriver\\remote\\errorhandler.py\u001b[0m in \u001b[0;36mcheck_response\u001b[1;34m(self, response)\u001b[0m\n\u001b[0;32m    240\u001b[0m                 \u001b[0malert_text\u001b[0m \u001b[1;33m=\u001b[0m \u001b[0mvalue\u001b[0m\u001b[1;33m[\u001b[0m\u001b[1;34m'alert'\u001b[0m\u001b[1;33m]\u001b[0m\u001b[1;33m.\u001b[0m\u001b[0mget\u001b[0m\u001b[1;33m(\u001b[0m\u001b[1;34m'text'\u001b[0m\u001b[1;33m)\u001b[0m\u001b[1;33m\u001b[0m\u001b[1;33m\u001b[0m\u001b[0m\n\u001b[0;32m    241\u001b[0m             \u001b[1;32mraise\u001b[0m \u001b[0mexception_class\u001b[0m\u001b[1;33m(\u001b[0m\u001b[0mmessage\u001b[0m\u001b[1;33m,\u001b[0m \u001b[0mscreen\u001b[0m\u001b[1;33m,\u001b[0m \u001b[0mstacktrace\u001b[0m\u001b[1;33m,\u001b[0m \u001b[0malert_text\u001b[0m\u001b[1;33m)\u001b[0m\u001b[1;33m\u001b[0m\u001b[1;33m\u001b[0m\u001b[0m\n\u001b[1;32m--> 242\u001b[1;33m         \u001b[1;32mraise\u001b[0m \u001b[0mexception_class\u001b[0m\u001b[1;33m(\u001b[0m\u001b[0mmessage\u001b[0m\u001b[1;33m,\u001b[0m \u001b[0mscreen\u001b[0m\u001b[1;33m,\u001b[0m \u001b[0mstacktrace\u001b[0m\u001b[1;33m)\u001b[0m\u001b[1;33m\u001b[0m\u001b[1;33m\u001b[0m\u001b[0m\n\u001b[0m\u001b[0;32m    243\u001b[0m \u001b[1;33m\u001b[0m\u001b[0m\n\u001b[0;32m    244\u001b[0m     \u001b[1;32mdef\u001b[0m \u001b[0m_value_or_default\u001b[0m\u001b[1;33m(\u001b[0m\u001b[0mself\u001b[0m\u001b[1;33m,\u001b[0m \u001b[0mobj\u001b[0m\u001b[1;33m,\u001b[0m \u001b[0mkey\u001b[0m\u001b[1;33m,\u001b[0m \u001b[0mdefault\u001b[0m\u001b[1;33m)\u001b[0m\u001b[1;33m:\u001b[0m\u001b[1;33m\u001b[0m\u001b[1;33m\u001b[0m\u001b[0m\n",
      "\u001b[1;31mNoSuchElementException\u001b[0m: Message: no such element: Unable to locate element: {\"method\":\"css selector\",\"selector\":\"[id=\"hdtb-tls\"]\"}\n  (Session info: chrome=88.0.4324.190)\n"
     ]
    }
   ],
   "source": [
    "import time \n",
    "from random import randint\n",
    "\n",
    "i = 60\n",
    "for website in websites:\n",
    "    for x in range(102):\n",
    "        search_result = search_selenium('nhs', website)\n",
    "        start_date = search_days[i]\n",
    "        end_date = search_days[i + 30]\n",
    "        dated_website = enter_date(search_result, start_date, end_date)\n",
    "        i += 30\n",
    "        print(i)\n",
    "        no_more_pages = False\n",
    "        while no_more_pages == False:\n",
    "            list_articles, driver = find_hrefs(dated_website, list_articles)\n",
    "            random_i = randint(5, 15)\n",
    "            time.sleep(random_i)\n",
    "            no_more_pages = next_page(driver)\n",
    "\n",
    "print(i)\n",
    "        "
   ]
  },
  {
   "cell_type": "code",
   "execution_count": 16,
   "metadata": {},
   "outputs": [],
   "source": [
    "with open(\"daily_mail_h_refs.txt\", \"w\") as output:\n",
    "    output.write(str(list_articles))"
   ]
  },
  {
   "cell_type": "code",
   "execution_count": 24,
   "metadata": {},
   "outputs": [],
   "source": [
    "daily_mail = []\n",
    "\n",
    "for href in list_articles:\n",
    "    if 'https://www.dailymail' in href:\n",
    "        daily_mail.append(href)\n",
    "        "
   ]
  },
  {
   "cell_type": "markdown",
   "metadata": {},
   "source": [
    "# Beautiful Soup - Headlines and Straplines"
   ]
  },
  {
   "cell_type": "code",
   "execution_count": 25,
   "metadata": {},
   "outputs": [],
   "source": [
    "url1 = daily_mail[100]\n",
    "url2 = daily_mail[10]"
   ]
  },
  {
   "cell_type": "code",
   "execution_count": 26,
   "metadata": {},
   "outputs": [
    {
     "data": {
      "text/plain": [
       "'https://www.dailymail.co.uk/health/article-7785675/Magic-mushrooms-one-step-closer-treating-depression.html'"
      ]
     },
     "execution_count": 26,
     "metadata": {},
     "output_type": "execute_result"
    }
   ],
   "source": [
    "url1"
   ]
  },
  {
   "cell_type": "code",
   "execution_count": 27,
   "metadata": {},
   "outputs": [
    {
     "data": {
      "text/plain": [
       "'https://www.dailymail.co.uk/health/article-7741849/How-NHS-spending-100-million-WRONG-DRUG.html'"
      ]
     },
     "execution_count": 27,
     "metadata": {},
     "output_type": "execute_result"
    }
   ],
   "source": [
    "url2"
   ]
  },
  {
   "cell_type": "code",
   "execution_count": 17,
   "metadata": {},
   "outputs": [],
   "source": [
    "url = 'https://www.dailymail.co.uk/news/article-9320239/NHS-hospitals-London-told-prepare-possible-surge-Covid-patients-later-year.html'"
   ]
  },
  {
   "cell_type": "code",
   "execution_count": 95,
   "metadata": {},
   "outputs": [
    {
     "name": "stdout",
     "output_type": "stream",
     "text": [
      "Medics in protective overalls marched student out of London university halls\n",
      "----------------------------\n",
      "Hazmat-clad staff took man in York to hospital after he fell unwell in a hotel\n",
      "----------------------------\n",
      "Scotland chief medical officer said only matter of time until first confirmed case\n",
      "----------------------------\n",
      "Epidemic currently sweeping world has killed 170 people and infected 8,200\n",
      "----------------------------\n",
      "Here’s how to help people impacted by Covid-19\n",
      "----------------------------\n"
     ]
    },
    {
     "data": {
      "text/plain": [
       "' 30 January 2020 '"
      ]
     },
     "execution_count": 95,
     "metadata": {},
     "output_type": "execute_result"
    }
   ],
   "source": [
    "import requests\n",
    "from bs4 import BeautifulSoup\n",
    "req = requests.get(daily_mail[701])\n",
    "soup = BeautifulSoup(req.content, 'html.parser')\n",
    "# find the headlines\n",
    "soup.find('h2').text\n",
    "\n",
    "# find the straplines\n",
    "for ultag in soup.find_all('ul', {'class': 'mol-bullets-with-font'}):\n",
    "    for litag in ultag.find_all('li'):\n",
    "        print(litag.text)\n",
    "        print('----------------------------')\n",
    "\n",
    "# get the timestamp\n",
    "date_time = soup.find('time').text\n",
    "date = date_time.split(',')[1]\n",
    "date\n",
    "\n",
    "\n",
    "# soup = BeautifulSoup(url2)\n",
    "# print(soup)\n",
    "# headline_selector = soup.find_all('div', class_='//*[@id=\"js-article-text\"]')\n",
    "# print(headline_selector)"
   ]
  },
  {
   "cell_type": "code",
   "execution_count": 100,
   "metadata": {},
   "outputs": [],
   "source": [
    "#Import libraries\n",
    "\n",
    "def scrape_daily_mail_headlines(list_urls):\n",
    "    article_text = []\n",
    "    dates = []\n",
    "    headline = []\n",
    "    import requests\n",
    "    from bs4 import BeautifulSoup\n",
    "    for i in range(len(list_urls)):\n",
    "        req = requests.get(daily_mail[i])\n",
    "        soup = BeautifulSoup(req.content, 'html.parser')\n",
    "        # find the headlines\n",
    "        article_headline = soup.find('h2').text\n",
    "        headline.append(article_headline)\n",
    "        # find the straplines\n",
    "        for ultag in soup.find_all('ul', {'class': 'mol-bullets-with-font'}):\n",
    "            local_list = []\n",
    "            for litag in ultag.find_all('li'):\n",
    "                text = litag.text\n",
    "                local_list.append(text)\n",
    "        article_text.append(local_list)\n",
    "            \n",
    "        # get the timestamp\n",
    "        try:\n",
    "            date_time = soup.find('time').text\n",
    "            article_date = date_time.split(',')[1]\n",
    "            dates.append(article_date)\n",
    "        except:\n",
    "            dates.append(\"No date given\")\n",
    "\n",
    "    return article_text, dates, headline\n",
    "\n",
    "article_text, dates, headline = scrape_daily_mail_headlines(daily_mail)"
   ]
  },
  {
   "cell_type": "code",
   "execution_count": 103,
   "metadata": {},
   "outputs": [
    {
     "name": "stdout",
     "output_type": "stream",
     "text": [
      "738\n",
      "738\n",
      "738\n"
     ]
    }
   ],
   "source": [
    "print(len(article_text))\n",
    "print(len(dates))\n",
    "print(len(headline))"
   ]
  },
  {
   "cell_type": "markdown",
   "metadata": {},
   "source": [
    "# Scrap Paper"
   ]
  },
  {
   "cell_type": "code",
   "execution_count": 12,
   "metadata": {},
   "outputs": [],
   "source": [
    "driver = webdriver.Chrome(PATH)\n",
    "# will search on google\n",
    "driver.get('https://www.google.com/search?q=nhs+site:theguardian.com&tbs=cdr:1,cd_min:03-23-2019,cd_max:03-30-2019&ei=IgBAYKqiFrPPxgOSuoLYBQ&start=220&sa=N&ved=2ahUKEwiqu7GQiZXvAhWzp3EKHRKdAFs4jgIQ8tMDegQIBhBD&biw=1036&bih=529&dpr=1.5')\n",
    "element = driver.find_element_by_id('hdtb-tls')\n",
    "driver.execute_script(\"arguments[0].click();\", element)\n",
    "#sleep\n",
    "random_i = randint(5, 15)\n",
    "driver.implicitly_wait(random_i)\n",
    "# Click on the date bar\n",
    "element2 = driver.find_element_by_class_name('hdtb-mn-hd')\n",
    "driver.execute_script(\"arguments[0].click();\", element2)\n",
    "# Find the Customer Range menu\n",
    "element3 = driver.find_element_by_class_name('ErsxPb.gvybPb')\n",
    "driver.execute_script(\"arguments[0].click();\", element3)\n",
    "#sleep\n",
    "random_i = randint(5, 15)\n",
    "driver.implicitly_wait(random_i)\n",
    "# Click the Customer Range menu\n",
    "try:\n",
    "    element4 = WebDriverWait(driver, 25).until(EC.presence_of_element_located((By.XPATH, '//*[@id=\"lb\"]/div[2]/g-menu/g-menu-item[7]/div/div/span')))\n",
    "    driver.execute_script(\"arguments[0].click();\", element4)\n",
    "\n",
    "except:\n",
    "    element4 = WebDriverWait(driver, 25).until(EC.presence_of_element_located((By.XPATH, '//*[@id=\"ow54\"]/span')))\n",
    "    driver.execute_script(\"arguments[0].click();\", element4)\n",
    "element5 = driver.find_element_by_xpath('//*[@id=\"OouJcb\"]')\n",
    "element5.send_keys(start_date)\n",
    "# Input End Date\n",
    "element6 = driver.find_element_by_xpath('//*[@id=\"rzG2be\"]')\n",
    "element6.send_keys(end_date)\n",
    "# Random Sleep\n",
    "random_i = randint(5, 15)\n",
    "driver.implicitly_wait(random_i)\n",
    "# Submit Date\n",
    "element7 = driver.find_element_by_xpath('//*[@id=\"T3kYXe\"]/g-button')\n",
    "driver = driver.execute_script(\"arguments[0].click();\", element7)\n"
   ]
  },
  {
   "cell_type": "markdown",
   "metadata": {},
   "source": [
    "# Practise Script"
   ]
  },
  {
   "cell_type": "code",
   "execution_count": null,
   "metadata": {},
   "outputs": [],
   "source": []
  },
  {
   "cell_type": "code",
   "execution_count": 48,
   "metadata": {},
   "outputs": [
    {
     "name": "stdout",
     "output_type": "stream",
     "text": [
      "Mozilla/5.0 (Windows NT 6.1) AppleWebKit/537.36 (KHTML, like Gecko) Chrome/41.0.2228.0 Safari/537.36\n"
     ]
    },
    {
     "name": "stderr",
     "output_type": "stream",
     "text": [
      "<ipython-input-48-c156726ebc4e>:10: DeprecationWarning: use options instead of chrome_options\n",
      "  driver = webdriver.Chrome(chrome_options=options, executable_path=PATH)\n"
     ]
    },
    {
     "ename": "WebDriverException",
     "evalue": "Message: unknown error: cannot determine loading status\nfrom disconnected: received Inspector.detached event\n  (Session info: chrome=88.0.4324.190)\n",
     "output_type": "error",
     "traceback": [
      "\u001b[1;31m---------------------------------------------------------------------------\u001b[0m",
      "\u001b[1;31mWebDriverException\u001b[0m                        Traceback (most recent call last)",
      "\u001b[1;32m<ipython-input-48-c156726ebc4e>\u001b[0m in \u001b[0;36m<module>\u001b[1;34m\u001b[0m\n\u001b[0;32m      9\u001b[0m \u001b[0moptions\u001b[0m\u001b[1;33m.\u001b[0m\u001b[0madd_argument\u001b[0m\u001b[1;33m(\u001b[0m\u001b[1;34mf'user-agent={userAgent}'\u001b[0m\u001b[1;33m)\u001b[0m\u001b[1;33m\u001b[0m\u001b[1;33m\u001b[0m\u001b[0m\n\u001b[0;32m     10\u001b[0m \u001b[0mdriver\u001b[0m \u001b[1;33m=\u001b[0m \u001b[0mwebdriver\u001b[0m\u001b[1;33m.\u001b[0m\u001b[0mChrome\u001b[0m\u001b[1;33m(\u001b[0m\u001b[0mchrome_options\u001b[0m\u001b[1;33m=\u001b[0m\u001b[0moptions\u001b[0m\u001b[1;33m,\u001b[0m \u001b[0mexecutable_path\u001b[0m\u001b[1;33m=\u001b[0m\u001b[0mPATH\u001b[0m\u001b[1;33m)\u001b[0m\u001b[1;33m\u001b[0m\u001b[1;33m\u001b[0m\u001b[0m\n\u001b[1;32m---> 11\u001b[1;33m \u001b[0mdriver\u001b[0m\u001b[1;33m.\u001b[0m\u001b[0mget\u001b[0m\u001b[1;33m(\u001b[0m\u001b[1;34m\"https://www.google.co.in\"\u001b[0m\u001b[1;33m)\u001b[0m\u001b[1;33m\u001b[0m\u001b[1;33m\u001b[0m\u001b[0m\n\u001b[0m\u001b[0;32m     12\u001b[0m \u001b[0mdriver\u001b[0m\u001b[1;33m.\u001b[0m\u001b[0mquit\u001b[0m\u001b[1;33m(\u001b[0m\u001b[1;33m)\u001b[0m\u001b[1;33m\u001b[0m\u001b[1;33m\u001b[0m\u001b[0m\n",
      "\u001b[1;32m~\\Anaconda3\\lib\\site-packages\\selenium\\webdriver\\remote\\webdriver.py\u001b[0m in \u001b[0;36mget\u001b[1;34m(self, url)\u001b[0m\n\u001b[0;32m    331\u001b[0m         \u001b[0mLoads\u001b[0m \u001b[0ma\u001b[0m \u001b[0mweb\u001b[0m \u001b[0mpage\u001b[0m \u001b[1;32min\u001b[0m \u001b[0mthe\u001b[0m \u001b[0mcurrent\u001b[0m \u001b[0mbrowser\u001b[0m \u001b[0msession\u001b[0m\u001b[1;33m.\u001b[0m\u001b[1;33m\u001b[0m\u001b[1;33m\u001b[0m\u001b[0m\n\u001b[0;32m    332\u001b[0m         \"\"\"\n\u001b[1;32m--> 333\u001b[1;33m         \u001b[0mself\u001b[0m\u001b[1;33m.\u001b[0m\u001b[0mexecute\u001b[0m\u001b[1;33m(\u001b[0m\u001b[0mCommand\u001b[0m\u001b[1;33m.\u001b[0m\u001b[0mGET\u001b[0m\u001b[1;33m,\u001b[0m \u001b[1;33m{\u001b[0m\u001b[1;34m'url'\u001b[0m\u001b[1;33m:\u001b[0m \u001b[0murl\u001b[0m\u001b[1;33m}\u001b[0m\u001b[1;33m)\u001b[0m\u001b[1;33m\u001b[0m\u001b[1;33m\u001b[0m\u001b[0m\n\u001b[0m\u001b[0;32m    334\u001b[0m \u001b[1;33m\u001b[0m\u001b[0m\n\u001b[0;32m    335\u001b[0m     \u001b[1;33m@\u001b[0m\u001b[0mproperty\u001b[0m\u001b[1;33m\u001b[0m\u001b[1;33m\u001b[0m\u001b[0m\n",
      "\u001b[1;32m~\\Anaconda3\\lib\\site-packages\\selenium\\webdriver\\remote\\webdriver.py\u001b[0m in \u001b[0;36mexecute\u001b[1;34m(self, driver_command, params)\u001b[0m\n\u001b[0;32m    319\u001b[0m         \u001b[0mresponse\u001b[0m \u001b[1;33m=\u001b[0m \u001b[0mself\u001b[0m\u001b[1;33m.\u001b[0m\u001b[0mcommand_executor\u001b[0m\u001b[1;33m.\u001b[0m\u001b[0mexecute\u001b[0m\u001b[1;33m(\u001b[0m\u001b[0mdriver_command\u001b[0m\u001b[1;33m,\u001b[0m \u001b[0mparams\u001b[0m\u001b[1;33m)\u001b[0m\u001b[1;33m\u001b[0m\u001b[1;33m\u001b[0m\u001b[0m\n\u001b[0;32m    320\u001b[0m         \u001b[1;32mif\u001b[0m \u001b[0mresponse\u001b[0m\u001b[1;33m:\u001b[0m\u001b[1;33m\u001b[0m\u001b[1;33m\u001b[0m\u001b[0m\n\u001b[1;32m--> 321\u001b[1;33m             \u001b[0mself\u001b[0m\u001b[1;33m.\u001b[0m\u001b[0merror_handler\u001b[0m\u001b[1;33m.\u001b[0m\u001b[0mcheck_response\u001b[0m\u001b[1;33m(\u001b[0m\u001b[0mresponse\u001b[0m\u001b[1;33m)\u001b[0m\u001b[1;33m\u001b[0m\u001b[1;33m\u001b[0m\u001b[0m\n\u001b[0m\u001b[0;32m    322\u001b[0m             response['value'] = self._unwrap_value(\n\u001b[0;32m    323\u001b[0m                 response.get('value', None))\n",
      "\u001b[1;32m~\\Anaconda3\\lib\\site-packages\\selenium\\webdriver\\remote\\errorhandler.py\u001b[0m in \u001b[0;36mcheck_response\u001b[1;34m(self, response)\u001b[0m\n\u001b[0;32m    240\u001b[0m                 \u001b[0malert_text\u001b[0m \u001b[1;33m=\u001b[0m \u001b[0mvalue\u001b[0m\u001b[1;33m[\u001b[0m\u001b[1;34m'alert'\u001b[0m\u001b[1;33m]\u001b[0m\u001b[1;33m.\u001b[0m\u001b[0mget\u001b[0m\u001b[1;33m(\u001b[0m\u001b[1;34m'text'\u001b[0m\u001b[1;33m)\u001b[0m\u001b[1;33m\u001b[0m\u001b[1;33m\u001b[0m\u001b[0m\n\u001b[0;32m    241\u001b[0m             \u001b[1;32mraise\u001b[0m \u001b[0mexception_class\u001b[0m\u001b[1;33m(\u001b[0m\u001b[0mmessage\u001b[0m\u001b[1;33m,\u001b[0m \u001b[0mscreen\u001b[0m\u001b[1;33m,\u001b[0m \u001b[0mstacktrace\u001b[0m\u001b[1;33m,\u001b[0m \u001b[0malert_text\u001b[0m\u001b[1;33m)\u001b[0m\u001b[1;33m\u001b[0m\u001b[1;33m\u001b[0m\u001b[0m\n\u001b[1;32m--> 242\u001b[1;33m         \u001b[1;32mraise\u001b[0m \u001b[0mexception_class\u001b[0m\u001b[1;33m(\u001b[0m\u001b[0mmessage\u001b[0m\u001b[1;33m,\u001b[0m \u001b[0mscreen\u001b[0m\u001b[1;33m,\u001b[0m \u001b[0mstacktrace\u001b[0m\u001b[1;33m)\u001b[0m\u001b[1;33m\u001b[0m\u001b[1;33m\u001b[0m\u001b[0m\n\u001b[0m\u001b[0;32m    243\u001b[0m \u001b[1;33m\u001b[0m\u001b[0m\n\u001b[0;32m    244\u001b[0m     \u001b[1;32mdef\u001b[0m \u001b[0m_value_or_default\u001b[0m\u001b[1;33m(\u001b[0m\u001b[0mself\u001b[0m\u001b[1;33m,\u001b[0m \u001b[0mobj\u001b[0m\u001b[1;33m,\u001b[0m \u001b[0mkey\u001b[0m\u001b[1;33m,\u001b[0m \u001b[0mdefault\u001b[0m\u001b[1;33m)\u001b[0m\u001b[1;33m:\u001b[0m\u001b[1;33m\u001b[0m\u001b[1;33m\u001b[0m\u001b[0m\n",
      "\u001b[1;31mWebDriverException\u001b[0m: Message: unknown error: cannot determine loading status\nfrom disconnected: received Inspector.detached event\n  (Session info: chrome=88.0.4324.190)\n"
     ]
    }
   ],
   "source": [
    "from selenium import webdriver\n",
    "from selenium.webdriver.chrome.options import Options\n",
    "from fake_useragent import UserAgent\n",
    "\n",
    "options = Options()\n",
    "ua = UserAgent()\n",
    "userAgent = ua.random\n",
    "print(userAgent)\n",
    "options.add_argument(f'user-agent={userAgent}')\n",
    "driver = webdriver.Chrome(chrome_options=options, executable_path=PATH)\n",
    "driver.get(\"https://www.google.co.in\")\n",
    "driver.quit()\n"
   ]
  },
  {
   "cell_type": "code",
   "execution_count": 4,
   "metadata": {},
   "outputs": [
    {
     "name": "stdout",
     "output_type": "stream",
     "text": [
      "https://www.theguardian.com/society/2020/nov/03/45m-deal-for-nhs-masks-collapses-amid-claims\n",
      "https://www.theguardian.com/uk-news/2020/nov/03/man-with-terrible-burns-waited-78-minutes-for-ambulance-in-wales\n",
      "https://www.theguardian.com/politics/live/2020/nov/03/uk-coronavirus-live-boris-johnson-snp-scotland-furlough-lockdown-covid-latest-updates?page=with%3Ablock-5fa196578f08237052c9c5d2\n",
      "https://www.theguardian.com/world/2020/nov/03/police-attend-zizzi-restaurant-bristol-alleged-covid-test-breach\n",
      "https://www.theguardian.com/society/2020/nov/03/judge-says-care-home-residents-in-england-are-legally-allowed-visitors\n",
      "https://www.theguardian.com/world/2020/nov/03/chris-whitty-decries-great-barrington-plan-to-let-covid-run-wild\n",
      "https://www.theguardian.com/world/2020/nov/03/england-lockdown-will-end-on-2-december-boris-johnson-insists\n",
      "https://www.theguardian.com/politics/live/2020/nov/03/uk-coronavirus-live-boris-johnson-snp-scotland-furlough-lockdown-covid-latest-updates?page=with:block-5fa17d4a8f08237052c9c45c\n",
      "https://www.theguardian.com/politics/live/2020/nov/03/uk-coronavirus-live-boris-johnson-snp-scotland-furlough-lockdown-covid-latest-updates?page=with:block-5fa170ac8f084b677750ec4a\n",
      "https://www.theguardian.com/politics/2020/nov/03/boriss-stooges-back-on-the-covid-tour-but-would-rather-be-elsewhere\n"
     ]
    }
   ],
   "source": [
    "from selenium import webdriver\n",
    "from selenium.webdriver.common.action_chains import ActionChains\n",
    "import time\n",
    "\n",
    "driver = webdriver.Chrome(PATH)\n",
    "\n",
    "driver.get('http://www.google.com')\n",
    "\n",
    "search = driver.find_element_by_name('q')\n",
    "# Enter search \n",
    "search.send_keys('nhs site:theguardian.com')\n",
    "# hit return after you enter search text\n",
    "search.send_keys(Keys.RETURN) \n",
    "#Sleep\n",
    "time.sleep(10)\n",
    "# Find the tool bar\n",
    "element = driver.find_element_by_id('hdtb-tls')\n",
    "driver.execute_script(\"arguments[0].click();\", element)\n",
    "# Click on the date bar\n",
    "element2 = driver.find_element_by_class_name('hdtb-mn-hd')\n",
    "driver.execute_script(\"arguments[0].click();\", element2)\n",
    "# Find the Custom Range menu\n",
    "element3 = driver.find_element_by_class_name('ErsxPb.gvybPb')\n",
    "driver.execute_script(\"arguments[0].click();\", element3)\n",
    "# Click the Custom Range menu\n",
    "time.sleep(3)\n",
    "element4 = WebDriverWait(driver, 10).until(EC.presence_of_element_located((By.XPATH, '//*[@id=\"lb\"]/div[2]/g-menu/g-menu-item[7]/div/div/span')))\n",
    "# element4 = driver.find_element_by_xpath('//*[@id=\"lb\"]/div[2]/g-menu/g-menu-item[7]/div/div/span')\n",
    "driver.execute_script(\"arguments[0].click();\", element4)\n",
    "# Input Start Date\n",
    "element5 = driver.find_element_by_xpath('//*[@id=\"OouJcb\"]')\n",
    "element5.send_keys('23-03-2019')\n",
    "# Input End Date\n",
    "element6 = driver.find_element_by_xpath('//*[@id=\"rzG2be\"]')\n",
    "element6.send_keys('23-03-2019')\n",
    "time.sleep(5)\n",
    "\n",
    "# Submit Date\n",
    "element7 = driver.find_element_by_xpath('//*[@id=\"T3kYXe\"]/g-button')\n",
    "driver.execute_script(\"arguments[0].click();\", element7)\n",
    "\n",
    "\n",
    "## get hrefs\n",
    "results = driver.find_elements_by_css_selector('div.g')\n",
    "time.sleep(5)\n",
    "for i in range(len(results)):\n",
    "    link = results[i].find_element_by_tag_name(\"a\")\n",
    "    href = link.get_attribute(\"href\")\n",
    "    print(href)\n",
    "    \n",
    "# Select next page\n",
    "\n",
    "# while True:\n",
    "try:\n",
    "    next_page = driver.find_element_by_xpath(\"//*[@id='pnnext']\").get_attribute(\"href\")\n",
    "    driver.get(next_page)\n",
    "\n",
    "except:\n",
    "    print(\"no more pages left\")\n",
    "    driver.quit()\n",
    "    False\n",
    "\n",
    "\n",
    "\n"
   ]
  },
  {
   "cell_type": "code",
   "execution_count": 15,
   "metadata": {},
   "outputs": [
    {
     "name": "stdout",
     "output_type": "stream",
     "text": [
      "https://www.theguardian.com/society/2020/nov/03/45m-deal-for-nhs-masks-collapses-amid-claims\n",
      "https://www.theguardian.com/uk-news/2020/nov/03/man-with-terrible-burns-waited-78-minutes-for-ambulance-in-wales\n",
      "https://www.theguardian.com/politics/live/2020/nov/03/uk-coronavirus-live-boris-johnson-snp-scotland-furlough-lockdown-covid-latest-updates?page=with%3Ablock-5fa196578f08237052c9c5d2\n",
      "https://www.theguardian.com/world/2020/nov/03/police-attend-zizzi-restaurant-bristol-alleged-covid-test-breach\n",
      "https://www.theguardian.com/society/2020/nov/03/judge-says-care-home-residents-in-england-are-legally-allowed-visitors\n",
      "https://www.theguardian.com/world/2020/nov/03/chris-whitty-decries-great-barrington-plan-to-let-covid-run-wild\n",
      "https://www.theguardian.com/world/2020/nov/03/england-lockdown-will-end-on-2-december-boris-johnson-insists\n",
      "https://www.theguardian.com/politics/live/2020/nov/03/uk-coronavirus-live-boris-johnson-snp-scotland-furlough-lockdown-covid-latest-updates?page=with:block-5fa17d4a8f08237052c9c45c\n",
      "https://www.theguardian.com/politics/live/2020/nov/03/uk-coronavirus-live-boris-johnson-snp-scotland-furlough-lockdown-covid-latest-updates?page=with:block-5fa170ac8f084b677750ec4a\n",
      "https://www.theguardian.com/politics/2020/nov/03/boriss-stooges-back-on-the-covid-tour-but-would-rather-be-elsewhere\n",
      "https://www.theguardian.com/world/2020/nov/03/alok-sharma-faces-covid-safety-questions-as-staff-member-test-positive\n",
      "https://www.theguardian.com/uk-news/2020/nov/03/nearly-500-child-sexual-exploitation-victims-identified-by-greater-manchester-police\n",
      "https://www.theguardian.com/world/2020/nov/03/us-coronavirus-cases-surge-trump-attacks-healthcare-experts\n",
      "https://www.theguardian.com/society/2020/nov/03/covid-decade-long-lie-benefits-lifestyle-choice-george-osborne-free-school-meals\n",
      "https://www.theguardian.com/commentisfree/2020/nov/03/keir-starmer-party-unity-reinstate-jeremy-corbyn-labour-disciplinary\n",
      "https://www.theguardian.com/politics/2020/nov/03/a-blackout-needed-on-lockdown-rebels\n",
      "https://www.theguardian.com/politics/2020/nov/03/uk-can-expect-three-more-covid-waves-with-lockdowns-mordaunt-says\n",
      "https://www.theguardian.com/uk-news/2020/nov/03/why-is-princess-dianas-panorama-interview-back-in-the-news\n",
      "https://www.theguardian.com/uk-news/2020/nov/03/scottish-minister-vows-to-tackle-antisocial-use-of-fireworks\n",
      "https://www.theguardian.com/world/2020/nov/03/faith-leaders-challenge-england-lockdown-ban-on-communal-worship-coronavirus\n"
     ]
    }
   ],
   "source": [
    "from selenium import webdriver\n",
    "from selenium.webdriver.common.action_chains import ActionChains\n",
    "import time\n",
    "\n",
    "driver = webdriver.Chrome(PATH)\n",
    "\n",
    "driver.get('http://www.google.com')\n",
    "\n",
    "search = driver.find_element_by_name('q')\n",
    "# Enter search \n",
    "search.send_keys('nhs site:theguardian.com')\n",
    "# hit return after you enter search text\n",
    "search.send_keys(Keys.RETURN) \n",
    "#Sleep\n",
    "time.sleep(10)\n",
    "# Find the tool bar\n",
    "element = driver.find_element_by_id('hdtb-tls')\n",
    "driver.execute_script(\"arguments[0].click();\", element)\n",
    "# Click on the date bar\n",
    "element2 = driver.find_element_by_class_name('hdtb-mn-hd')\n",
    "driver.execute_script(\"arguments[0].click();\", element2)\n",
    "# Find the Customer Range menu\n",
    "element3 = driver.find_element_by_class_name('ErsxPb.gvybPb')\n",
    "driver.execute_script(\"arguments[0].click();\", element3)\n",
    "# Click the Customer Range menu\n",
    "time.sleep(3)\n",
    "element4 = WebDriverWait(driver, 10).until(EC.presence_of_element_located((By.XPATH, '//*[@id=\"lb\"]/div[2]/g-menu/g-menu-item[7]/div/div/span')))\n",
    "# element4 = driver.find_element_by_xpath('//*[@id=\"lb\"]/div[2]/g-menu/g-menu-item[7]/div/div/span')\n",
    "driver.execute_script(\"arguments[0].click();\", element4)\n",
    "# Input Start Date\n",
    "element5 = driver.find_element_by_xpath('//*[@id=\"OouJcb\"]')\n",
    "element5.send_keys('23-03-2019')\n",
    "# Input End Date\n",
    "element6 = driver.find_element_by_xpath('//*[@id=\"rzG2be\"]')\n",
    "element6.send_keys('23-03-2019')\n",
    "time.sleep(5)\n",
    "\n",
    "# Submit Date\n",
    "element7 = driver.find_element_by_xpath('//*[@id=\"T3kYXe\"]/g-button')\n",
    "driver.execute_script(\"arguments[0].click();\", element7)\n",
    "\n",
    "\n",
    "## get hrefs\n",
    "results = driver.find_elements_by_css_selector('div.g')\n",
    "time.sleep(5)\n",
    "for i in range(len(results)):\n",
    "    link = results[i].find_element_by_tag_name(\"a\")\n",
    "    href = link.get_attribute(\"href\")\n",
    "    print(href)\n",
    "\n",
    "while True:\n",
    "    try:\n",
    "        next_page = driver.find_element_by_xpath(\"//*[@id='pnnext']\").get_attribute(\"href\")\n",
    "        driver.get(next_page)\n",
    "        results = driver.find_elements_by_css_selector('div.g')\n",
    "        time.sleep(5)\n",
    "        for i in range(len(results)):\n",
    "            link = results[i].find_element_by_tag_name(\"a\")\n",
    "            href = link.get_attribute(\"href\")\n",
    "            print(href)\n",
    "\n",
    "    except:\n",
    "        print(\"no more pages left\")\n",
    "        driver.quit()\n"
   ]
  },
  {
   "cell_type": "markdown",
   "metadata": {},
   "source": [
    "# Get headlines from links"
   ]
  },
  {
   "cell_type": "code",
   "execution_count": null,
   "metadata": {},
   "outputs": [],
   "source": [
    "#regex for partial match with class_name"
   ]
  },
  {
   "cell_type": "code",
   "execution_count": null,
   "metadata": {},
   "outputs": [],
   "source": [
    "import re"
   ]
  },
  {
   "cell_type": "code",
   "execution_count": null,
   "metadata": {},
   "outputs": [],
   "source": [
    "real_headlines = []"
   ]
  },
  {
   "cell_type": "code",
   "execution_count": null,
   "metadata": {},
   "outputs": [],
   "source": [
    "driver = webdriver.Chrome(PATH)\n",
    "driver.maximize_window()\n",
    "\n",
    "wait = WebDriverWait(driver, 3)\n",
    "presence = EC.presence_of_element_located\n",
    "visible = EC.visibility_of_element_located\n",
    "\n",
    "for i in list_headlines:\n",
    "    driver.get(i)\n",
    "    WebDriverWait(driver, 10)\n",
    "    print(i)\n",
    "    \n",
    "    try:\n",
    "        divs = driver.find_element_by_css_selector(\"[class*='e-headline']\")\n",
    "        real_headlines.append(divs.text)\n",
    "#         print(divs.text)\n",
    "        \n",
    "    except:\n",
    "        divs = None\n"
   ]
  },
  {
   "cell_type": "code",
   "execution_count": null,
   "metadata": {},
   "outputs": [],
   "source": [
    "real_headlines\n",
    "myset = set(real_headlines)\n",
    "len(myset)"
   ]
  },
  {
   "cell_type": "code",
   "execution_count": null,
   "metadata": {},
   "outputs": [],
   "source": [
    "len(real_headlines)"
   ]
  },
  {
   "cell_type": "code",
   "execution_count": null,
   "metadata": {},
   "outputs": [],
   "source": []
  },
  {
   "cell_type": "code",
   "execution_count": 9,
   "metadata": {},
   "outputs": [],
   "source": [
    "# driver = webdriver.Chrome(PATH)\n",
    "# driver.maximize_window()\n",
    "\n",
    "# wait = WebDriverWait(driver, 5)\n",
    "# presence = EC.presence_of_element_located\n",
    "# visible = EC.visibility_of_element_located\n",
    "\n",
    "# for website in websites_google_search:\n",
    "#     driver = webdriver.Chrome(PATH)\n",
    "#     driver.maximize_window()\n",
    "#     for day in search_days:\n",
    "#         driver.get(f'https://www.google.com/search?q=nhs+site:{website}&tbs=cdr:1,cd_min:{day},cd_max:{day}&sxsrf=ALeKk02Trw5YASvAO8g4qyRyb2eRf-Q2cg:1614704439315&ei=N28-YKrsEtHxxgPilIboDA&start=90&sa=N&ved=2ahUKEwjq45bkipLvAhXRuHEKHWKKAc0Q8tMDegQIAxBF&biw=1280&bih=614')\n",
    "#         while True:\n",
    "#             random_i = randint(5, 15)\n",
    "#             WebDriverWait(driver, random_i)\n",
    "#             next_page_btn =driver.find_elements_by_xpath(\"//a[@id='pnnext']\")\n",
    "#             if \n",
    "            \n",
    "#             elif len(next_page_btn) <1:\n",
    "#                 print(\"no more pages left\")\n",
    "#                 driver.quit()\n",
    "#                 break\n",
    "\n",
    "#             else:\n",
    "#                 random_i = randint(5, 15)\n",
    "#                 WebDriverWait(driver, random_i)\n",
    "#                 results = driver.find_elements_by_css_selector('div.g')\n",
    "#                 for i in range(len(results)):\n",
    "#                     link = results[i].find_element_by_tag_name(\"a\")\n",
    "#                     href = link.get_attribute(\"href\")\n",
    "#                     if website in href:\n",
    "#                         print(href)\n",
    "#                         list_headlines.append(href)\n",
    "#                 next_page = driver.find_element_by_xpath(\"//*[@id='pnnext']\").get_attribute(\"href\")\n",
    "#                 driver.get(next_page)\n",
    "            \n",
    "#             href = link.get_attribute(\"href\").click()\n",
    "#             random_i = randint(3, 5)\n",
    "#             WebDriverWait(driver, random_i)\n",
    "#             new_ = next_page.get_attribute(\"href\").click()\n",
    "#             print(new_)\n",
    "#             driver.Click()\n",
    "#             driver.next_page[0].get_attribute(\"href\").click()\n",
    "        \n",
    "# with open(\"all_h_refs.txt\", \"w\") as output:\n",
    "#     output.write(str(list_headlines))\n",
    "\n"
   ]
  },
  {
   "cell_type": "code",
   "execution_count": 14,
   "metadata": {},
   "outputs": [],
   "source": [
    "\n",
    "# for website in websites_google_search:\n",
    "#     driver = webdriver.Chrome(PATH)\n",
    "#     driver.maximize_window()\n",
    "#     for day in search_days:\n",
    "#         driver.get(f'https://www.google.com/search?q=nhs+site:{website}&tbs=cdr:1,cd_min:{day},cd_max:{day}&sxsrf=ALeKk02Trw5YASvAO8g4qyRyb2eRf-Q2cg:1614704439315&ei=N28-YKrsEtHxxgPilIboDA&start=90&sa=N&ved=2ahUKEwjq45bkipLvAhXRuHEKHWKKAc0Q8tMDegQIAxBF&biw=1280&bih=614')\n",
    "#         while True:\n",
    "#             random_i = randint(5, 15)\n",
    "#             WebDriverWait(driver, random_i)\n",
    "#             one_page_link = driver.find_elements_by_class_name('LC20lb')\n",
    "# #             if len(one_page_link) > 0: \n",
    "# #                 random_i = randint(5, 15)\n",
    "# #                 WebDriverWait(driver, random_i)\n",
    "# #                 results = driver.find_elements_by_css_selector('div.g')\n",
    "# #                 for i in range(len(results)):\n",
    "# #                     link = results[i].find_element_by_tag_name(\"a\")\n",
    "# #                     href = link.get_attribute(\"href\")\n",
    "# #                     if website in href:\n",
    "# #                         print(href)\n",
    "# #                         list_headlines.append(href)\n",
    "# #                 next_page = driver.find_element_by_xpath(\"//*[@id='pnnext']\").get_attribute(\"href\")\n",
    "# #                 driver.get(next_page)\n",
    "\n",
    "# #             else:\n",
    "# #                 print(\"no more pages left\")\n",
    "# #                 driver.quit()\n",
    "# #                 break\n",
    "            \n",
    "# with open(\"all_h_refs.txt\", \"w\") as output:\n",
    "#     output.write(str(list_headlines))\n",
    "\n"
   ]
  },
  {
   "cell_type": "code",
   "execution_count": null,
   "metadata": {},
   "outputs": [
    {
     "name": "stdout",
     "output_type": "stream",
     "text": [
      "https://www.theguardian.com/uk-news/2020/nov/03/man-with-terrible-burns-waited-78-minutes-for-ambulance-in-wales\n",
      "https://www.theguardian.com/uk-news/2020/nov/03/nearly-500-child-sexual-exploitation-victims-identified-by-greater-manchester-police\n",
      "https://www.theguardian.com/uk-news/2020/nov/03/ryan-giggs-denies-claims-after-arrest-on-suspicion-of-assaulting-girlfriend\n",
      "https://www.theguardian.com/uk-news/2020/nov/03/scottish-minister-vows-to-tackle-antisocial-use-of-fireworks\n",
      "https://www.theguardian.com/uk-news/2020/nov/03/sadiq-khan-confirms-london-city-hall-move-royal-docks\n",
      "https://www.theguardian.com/uk-news/2020/nov/03/why-is-princess-dianas-panorama-interview-back-in-the-news\n",
      "https://www.theguardian.com/uk-news/2020/nov/03/stephen-lawrence-cps-asked-to-consider-new-charges-against-police\n"
     ]
    }
   ],
   "source": [
    "# driver = webdriver.Chrome(PATH)\n",
    "# driver.maximize_window()\n",
    "\n",
    "# wait = WebDriverWait(driver, 5)\n",
    "# presence = EC.presence_of_element_located\n",
    "# visible = EC.visibility_of_element_located\n",
    "\n",
    "# # Navigate to url with video being appended to search_query\n",
    "# for website in websites_google_search:\n",
    "#     wait\n",
    "\n",
    "#     page_number_found = True\n",
    "#     while page_number_found == True:\n",
    "#         for date in search_days:\n",
    "#             try:\n",
    "#                 random_i = randint(5, 15)\n",
    "#                 WebDriverWait(driver, random_i)\n",
    "#                 driver.get(f'https://www.google.com/search?q=nhs+site:{website}&tbs=cdr:1,cd_min:{date},cd_max:{date}&sxsrf=ALeKk02IWAdbzTcOOTXprjips1JZGT3XxA:1614530791185&ei=58g7YMLpCq2O1fAP8JuQ0Ak&start={google_page_number}&sa=N&ved=2ahUKEwiC-aXyg43vAhUtRxUIHfANBJo4ChDy0wN6BAgDEDc&biw=1280&bih=614')\n",
    "#                 results = driver.find_elements_by_css_selector('div.g')\n",
    "#                 for i in range(len(results)):\n",
    "#                     wait\n",
    "#                     link = results[i].find_element_by_tag_name(\"a\")\n",
    "#                     href = link.get_attribute(\"href\")\n",
    "#                     print(href)\n",
    "\n",
    "\n",
    "#             except:\n",
    "#                 page_number_found == False\n",
    "#                 break\n",
    "\n",
    "#             google_page_number += 10"
   ]
  }
 ],
 "metadata": {
  "kernelspec": {
   "display_name": "Python 3",
   "language": "python",
   "name": "python3"
  },
  "language_info": {
   "codemirror_mode": {
    "name": "ipython",
    "version": 3
   },
   "file_extension": ".py",
   "mimetype": "text/x-python",
   "name": "python",
   "nbconvert_exporter": "python",
   "pygments_lexer": "ipython3",
   "version": "3.8.5"
  }
 },
 "nbformat": 4,
 "nbformat_minor": 4
}
